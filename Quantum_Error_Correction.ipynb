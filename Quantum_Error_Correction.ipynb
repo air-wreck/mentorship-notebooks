{
 "cells": [
  {
   "cell_type": "markdown",
   "metadata": {},
   "source": [
    "# Quantum Error Correction\n",
    "\n",
    "> My first time trying `qiskit` and `jupyter`..."
   ]
  },
  {
   "cell_type": "markdown",
   "metadata": {},
   "source": [
    "In this document, I'd like to construct and simulate a very simple single-qubit error correction code, mostly to familiarize myself with `qiskit` and `jupyter`. We will start by defining the type of error that we wish to correct: a single-qubit bitflip. We will construct a function that does this randomly to one of the physical qubits in a given logical qubit:"
   ]
  },
  {
   "cell_type": "code",
   "execution_count": 1,
   "metadata": {},
   "outputs": [],
   "source": [
    "import numpy as np\n",
    "\n",
    "# randomly bitflip one of the physical qubits of 'q'\n",
    "def single_qubit_error(q, circ):\n",
    "    switch = q[int(np.random.choice(range(len(q))))]\n",
    "    circ.x(switch)"
   ]
  },
  {
   "cell_type": "markdown",
   "metadata": {},
   "source": [
    "Next, we'll extend `qiskit.QuantumCircuit` to define some gates that `qiskit` doesn't include by default, particularly the Toffoli gate. We'll do this with a partially applied function implementations because I have a soft spot for functional programming."
   ]
  },
  {
   "cell_type": "code",
   "execution_count": 2,
   "metadata": {},
   "outputs": [],
   "source": [
    "# do a Toffoli gate on q3, conditioned on q1 and q2\n",
    "def toffoli(q1, q2, q3, circ):\n",
    "    circ.h(q3)\n",
    "    circ.cx(q2, q3)\n",
    "    circ.tdg(q3)\n",
    "    circ.cx(q1, q3)\n",
    "    circ.t(q3)\n",
    "    circ.cx(q2, q3)\n",
    "    circ.tdg(q3)\n",
    "    circ.cx(q1, q3)\n",
    "    circ.t(q2)\n",
    "    circ.t(q3)\n",
    "    circ.h(q3)\n",
    "    circ.cx(q1, q2)\n",
    "    circ.t(q1)\n",
    "    circ.tdg(q2)\n",
    "    circ.cx(q1, q2)"
   ]
  },
  {
   "cell_type": "markdown",
   "metadata": {},
   "source": [
    "Now let's put together the error correction circuit! First, we'll perform a parity check by reading single-qubit errors on the logical qubit into the ancillary qubits:"
   ]
  },
  {
   "cell_type": "code",
   "execution_count": 3,
   "metadata": {},
   "outputs": [],
   "source": [
    "# read error in circuit 'circ' from qubits 'q'\n",
    "# onto ancillary 'a'\n",
    "def read_error(q, a, circ):\n",
    "    circ.cx(q[0], a[0])\n",
    "    circ.cx(q[1], a[0])\n",
    "    circ.cx(q[0], a[1])\n",
    "    circ.cx(q[2], a[1]);"
   ]
  },
  {
   "cell_type": "markdown",
   "metadata": {},
   "source": [
    "Then we'll correct any errors in the logical qubit based on the values of the ancillary bits:"
   ]
  },
  {
   "cell_type": "code",
   "execution_count": 4,
   "metadata": {},
   "outputs": [],
   "source": [
    "# correct a single parity error in circuit 'circ'\n",
    "# with data on 'q' and ancillary on 'a'\n",
    "def correct_parity(q, a, circ):\n",
    "    circ.toffoli(a[0], a[1], q[0])\n",
    "    circ.x(a[0])\n",
    "    circ.toffoli(a[0], a[1], q[2])\n",
    "    circ.x(a[0])\n",
    "    circ.x(a[1])\n",
    "    circ.toffoli(a[0], a[1], q[1]);"
   ]
  },
  {
   "cell_type": "markdown",
   "metadata": {},
   "source": [
    "Finally, we can put this together into an experimental run. Each new trial, we'll build a new circuit, introducing some random single-qubit error to see if it is properly detected and corrected:"
   ]
  },
  {
   "cell_type": "code",
   "execution_count": 5,
   "metadata": {},
   "outputs": [],
   "source": [
    "import qiskit\n",
    "from functools import partial\n",
    "\n",
    "def build_circuit():\n",
    "    # setup registers: logical qubit, ancillary qubits, classical readout\n",
    "    # important: qubits are initialized in the '0' state\n",
    "    qubit = qiskit.QuantumRegister(3, 'q')\n",
    "    ancillary = qiskit.QuantumRegister(2, 'a')\n",
    "    readout = qiskit.ClassicalRegister(3, 'c')\n",
    "    \n",
    "    # init circuit and add custom methods\n",
    "    circuit = qiskit.QuantumCircuit(qubit, ancillary, readout)\n",
    "    circuit.single_qubit_error = partial(single_qubit_error, circ=circuit)\n",
    "    circuit.toffoli = partial(toffoli, circ=circuit)\n",
    "    circuit.read_error = partial(read_error, circ=circuit)\n",
    "    circuit.correct_parity = partial(correct_parity, circ=circuit)\n",
    "    \n",
    "    # introduce and correct a random error\n",
    "    circuit.single_qubit_error(qubit)\n",
    "    circuit.read_error(qubit, ancillary)\n",
    "    circuit.correct_parity(qubit, ancillary)\n",
    "    \n",
    "    # measure qubits to verify results\n",
    "    circuit.measure(qubit, readout)\n",
    "    return circuit"
   ]
  },
  {
   "cell_type": "markdown",
   "metadata": {},
   "source": [
    "Now, we'll run the trial on the `qiskit` Aer simulator and display the aggregate results:"
   ]
  },
  {
   "cell_type": "code",
   "execution_count": 6,
   "metadata": {
    "scrolled": true
   },
   "outputs": [
    {
     "data": {
      "text/plain": [
       "Counter({'000': 100})"
      ]
     },
     "execution_count": 6,
     "metadata": {},
     "output_type": "execute_result"
    }
   ],
   "source": [
    "from collections import Counter\n",
    "\n",
    "# simulate a single circuit\n",
    "def simulate_circuit(circuit):\n",
    "    backend = qiskit.BasicAer.get_backend('qasm_simulator')\n",
    "    job = qiskit.execute(circuit, backend, shots=1)\n",
    "    return Counter(job.result().get_counts(circuit))\n",
    "\n",
    "# display results of N runs\n",
    "N = 100\n",
    "sum([simulate_circuit(build_circuit()) for _ in range(N)], Counter())"
   ]
  },
  {
   "cell_type": "markdown",
   "metadata": {},
   "source": [
    "As we would expect, the logical qubit remains in the `'000'` state every single time, indicating that our error correction was successful."
   ]
  }
 ],
 "metadata": {
  "kernelspec": {
   "display_name": "quantum",
   "language": "python",
   "name": "quantum"
  },
  "language_info": {
   "codemirror_mode": {
    "name": "ipython",
    "version": 3
   },
   "file_extension": ".py",
   "mimetype": "text/x-python",
   "name": "python",
   "nbconvert_exporter": "python",
   "pygments_lexer": "ipython3",
   "version": "3.7.3"
  }
 },
 "nbformat": 4,
 "nbformat_minor": 2
}

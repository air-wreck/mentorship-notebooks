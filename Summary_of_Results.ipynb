{
 "cells": [
  {
   "cell_type": "markdown",
   "metadata": {},
   "source": [
    "# Summary of Results\n",
    "\n",
    "This document provides a summary of the noise/error characterization experiments run on the IBM quantum devices. I'm still unsure if I want to do this in a more traditional LaTeX document."
   ]
  },
  {
   "cell_type": "markdown",
   "metadata": {},
   "source": [
    "## Energy Relaxation (T<sub>1</sub>)\n",
    "\n",
    "The first type of error considered was energy relaxation, in which an excited qubit decays into the ground state over time. The process is modeled as an exponential decay; the time constant of the decay is termed T<sub>1</sub> and is an important performance characteristic for quantum computing.\n",
    "\n",
    "The detailed/commented source code for this experiment can be found in `T1_Variations.ipynb`; the results are summarized here. The basic methodology for each experiment is to initialize a qubit in the excited state and then apply varying durations of idle gates and record the remaining excited state population:\n",
    "\n",
    "![T1 expeirment circuit](img/t1_circuit.png)\n",
    "\n",
    "The decay curves on the Yorktown device are shown below:"
   ]
  },
  {
   "cell_type": "markdown",
   "metadata": {},
   "source": [
    "## Dephasing (T<sub>2</sub>)\n",
    "\n",
    "The second type of error considered was dephasing, in which a qubit \"orbits\" the equator of the Bloch sphere. This should follow a damped sinusoidal oscillation, whose time constant is termed T<sub>2</sub>. The source code for this experiment can be found in `T2star_Variations.ipynb`. The basic methodology\n",
    "\n",
    "The experimental runs on the Tenerife device are plotted below:\n",
    "\n",
    "The final values and their associated errors are given below:\n",
    "\n",
    "| Statistic | Q<sub>0</sub> | Q<sub>1</sub> | Q<sub>2</sub> | Q<sub>3</sub> | Q<sub>4</sub> |\n",
    "|---|---|---|---|---|---|\n",
    "| Experimental T<sub>2</sub> (&mu;s) | 10.246 | 9.999 | 38.138 | 33.781 | 5.313 |\n",
    "| Expected T<sub>2</sub> (&mu;s) | 20.60 | 10.60 | 35.60 | 29.70 | 5.00 |\n",
    "| Percent Error | -50.26 | -5.67 | +7.13 | +13.74 | +6.26 |"
   ]
  },
  {
   "cell_type": "markdown",
   "metadata": {},
   "source": [
    "## State Initialization/Measurement\n",
    "\n",
    "The third type of error considered was initialization and measurement error."
   ]
  },
  {
   "cell_type": "markdown",
   "metadata": {},
   "source": [
    "## Multi-qubit Gate Error\n",
    "\n",
    "The fourth type of error considered was a multi-qubit gate error. This type of error was characterized using the randomized benchmarking suite in the Qiskit Ignis module. "
   ]
  }
 ],
 "metadata": {
  "kernelspec": {
   "display_name": "quantum",
   "language": "python",
   "name": "quantum"
  },
  "language_info": {
   "codemirror_mode": {
    "name": "ipython",
    "version": 3
   },
   "file_extension": ".py",
   "mimetype": "text/x-python",
   "name": "python",
   "nbconvert_exporter": "python",
   "pygments_lexer": "ipython3",
   "version": "3.7.3"
  }
 },
 "nbformat": 4,
 "nbformat_minor": 2
}

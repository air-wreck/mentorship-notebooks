{
 "cells": [
  {
   "cell_type": "markdown",
   "metadata": {},
   "source": [
    "# T1 Variations Sketchy Business Investigation\n",
    "\n",
    "> 5/3/19\n",
    "\n",
    "This document will more formally document/investigate the unexpected stuff that happens when I add a second qubit to the energy relaxation code."
   ]
  },
  {
   "cell_type": "code",
   "execution_count": 1,
   "metadata": {},
   "outputs": [],
   "source": [
    "# import standard libraries\n",
    "import qiskit as q\n",
    "import qiskit.tools.monitor as monitor\n",
    "import numpy as np\n",
    "import matplotlib.pyplot as plt\n",
    "%matplotlib inline"
   ]
  },
  {
   "cell_type": "code",
   "execution_count": 2,
   "metadata": {},
   "outputs": [
    {
     "name": "stdout",
     "output_type": "stream",
     "text": [
      "ibmqx4\n"
     ]
    }
   ],
   "source": [
    "# load IBMQ account once\n",
    "q.IBMQ.load_accounts()\n",
    "\n",
    "# select a good backend for use in this session\n",
    "backends = q.IBMQ.backends(filters=lambda x:\n",
    "                           not x.configuration().simulator)\n",
    "best = q.providers.ibmq.least_busy(backends)\n",
    "print(best)"
   ]
  },
  {
   "cell_type": "markdown",
   "metadata": {},
   "source": [
    "First, let's construct the two arrays of circuits: `circuits_1` for the single qubit and `circuits_2` for the double qubit."
   ]
  },
  {
   "cell_type": "code",
   "execution_count": 6,
   "metadata": {},
   "outputs": [
    {
     "data": {
      "image/png": "[encoded data removed]",
      "text/plain": [
       "<Figure size 361.2x138.46 with 1 Axes>"
      ]
     },
     "execution_count": 6,
     "metadata": {},
     "output_type": "execute_result"
    }
   ],
   "source": [
    "# single qubit circuit\n",
    "qr1 = q.QuantumRegister(1, 'q')\n",
    "cr1 = q.ClassicalRegister(1, 'c')\n",
    "\n",
    "# preparation stage\n",
    "prepare1 = q.QuantumCircuit(qr1, cr1)\n",
    "prepare1.x(qr1[0])\n",
    "prepare1.barrier()\n",
    "\n",
    "# measurement stage\n",
    "measure1 = q.QuantumCircuit(qr1, cr1)\n",
    "measure1.barrier()\n",
    "measure1.measure(qr1[0], cr1[0])\n",
    "\n",
    "# idle stages\n",
    "circuits_1 = []\n",
    "for n in range(50):\n",
    "    idle = q.QuantumCircuit(qr1, cr1)\n",
    "    for _ in range(45 * n):\n",
    "        idle.iden(qr1[0])\n",
    "    circuits_1 += [prepare1 + idle + measure1]\n",
    "\n",
    "circuits_1[0].draw(output='mpl')"
   ]
  },
  {
   "cell_type": "code",
   "execution_count": 7,
   "metadata": {},
   "outputs": [
    {
     "data": {
      "image/png": "[encoded data removed]",
      "text/plain": [
       "<Figure size 361.2x198.66 with 1 Axes>"
      ]
     },
     "execution_count": 7,
     "metadata": {},
     "output_type": "execute_result"
    }
   ],
   "source": [
    "# double qubit circuit\n",
    "qr2 = q.QuantumRegister(2, 'q')\n",
    "cr2 = q.ClassicalRegister(1, 'c')\n",
    "\n",
    "# preparation stage\n",
    "prepare2 = q.QuantumCircuit(qr2, cr2)\n",
    "prepare2.x(qr2[0])\n",
    "prepare2.barrier()\n",
    "\n",
    "# measurement stage\n",
    "measure2 = q.QuantumCircuit(qr2, cr2)\n",
    "measure2.barrier()\n",
    "measure2.measure(qr2[0], cr2[0])\n",
    "\n",
    "# idle stages\n",
    "circuits_2 = []\n",
    "for n in range(50):\n",
    "    idle = q.QuantumCircuit(qr2, cr2)\n",
    "    for _ in range(45 * n):\n",
    "        idle.iden(qr2[0])\n",
    "    circuits_2 += [prepare2 + idle + measure2]\n",
    "    \n",
    "circuits_2[0].draw(output='mpl')"
   ]
  },
  {
   "cell_type": "markdown",
   "metadata": {},
   "source": [
    "Now let's compare the compiled versions of the two:"
   ]
  },
  {
   "cell_type": "code",
   "execution_count": 30,
   "metadata": {},
   "outputs": [
    {
     "name": "stdout",
     "output_type": "stream",
     "text": [
      "=== one qubit ===\n",
      "OPENQASM 2.0;\n",
      "include \"qelib1.inc\";\n",
      "qreg q[1];\n",
      "creg c[1];\n",
      "u3(pi,0,pi) q[0];\n",
      "barrier q[0];\n",
      "id q[0];\n",
      "id q[0];\n",
      "id q[0];\n",
      "id q[0];\n",
      "id q[0];\n",
      "id q[0];\n",
      "id q[0];\n",
      "id q[0];\n",
      "id q[0];\n",
      "id q[0];\n",
      "id q[0];\n",
      "id q[0];\n",
      "id q[0];\n",
      "id q[0];\n",
      "id q[0];\n",
      "id q[0];\n",
      "id q[0];\n",
      "id q[0];\n",
      "id q[0];\n",
      "id q[0];\n",
      "id q[0];\n",
      "id q[0];\n",
      "id q[0];\n",
      "id q[0];\n",
      "id q[0];\n",
      "id q[0];\n",
      "id q[0];\n",
      "id q[0];\n",
      "id q[0];\n",
      "id q[0];\n",
      "id q[0];\n",
      "id q[0];\n",
      "id q[0];\n",
      "id q[0];\n",
      "id q[0];\n",
      "id q[0];\n",
      "id q[0];\n",
      "id q[0];\n",
      "id q[0];\n",
      "id q[0];\n",
      "id q[0];\n",
      "id q[0];\n",
      "id q[0];\n",
      "id q[0];\n",
      "id q[0];\n",
      "barrier q[0];\n",
      "measure q[0] -> c[0];\n",
      "\n",
      "=== two qubits ===\n",
      "OPENQASM 2.0;\n",
      "include \"qelib1.inc\";\n",
      "qreg q[5];\n",
      "creg c[1];\n",
      "u3(pi,0,pi) q[0];\n",
      "barrier q[0],q[1];\n",
      "barrier q[0];\n",
      "measure q[0] -> c[0];\n",
      "\n"
     ]
    }
   ],
   "source": [
    "qobj_1 = q.compile(circuits_1[1], best, shots=1024)\n",
    "qobj_2 = q.compile(circuits_2[1], best, shots=1024)\n",
    "\n",
    "print('=== one qubit ===')\n",
    "print(qobj_1.as_dict()['experiments'][0]['header']['compiled_circuit_qasm'])\n",
    "print('=== two qubits ===')\n",
    "print(qobj_2.as_dict()['experiments'][0]['header']['compiled_circuit_qasm'])"
   ]
  },
  {
   "cell_type": "markdown",
   "metadata": {},
   "source": [
    "And...therein lies the issue. When we have two qubits, Qiskit does some optimizations that it doesn't do when we have one qubit. We can turn this off by using the `skip_transpiler=True` option for `qiskit.compile`. We can verify that this does indeed work:"
   ]
  },
  {
   "cell_type": "code",
   "execution_count": 35,
   "metadata": {},
   "outputs": [
    {
     "name": "stdout",
     "output_type": "stream",
     "text": [
      "OPENQASM 2.0;\n",
      "include \"qelib1.inc\";\n",
      "qreg q[2];\n",
      "creg c[1];\n",
      "x q[0];\n",
      "barrier q[0],q[1];\n",
      "id q[0];\n",
      "id q[0];\n",
      "id q[0];\n",
      "id q[0];\n",
      "id q[0];\n",
      "id q[0];\n",
      "id q[0];\n",
      "id q[0];\n",
      "id q[0];\n",
      "id q[0];\n",
      "id q[0];\n",
      "id q[0];\n",
      "id q[0];\n",
      "id q[0];\n",
      "id q[0];\n",
      "id q[0];\n",
      "id q[0];\n",
      "id q[0];\n",
      "id q[0];\n",
      "id q[0];\n",
      "id q[0];\n",
      "id q[0];\n",
      "id q[0];\n",
      "id q[0];\n",
      "id q[0];\n",
      "id q[0];\n",
      "id q[0];\n",
      "id q[0];\n",
      "id q[0];\n",
      "id q[0];\n",
      "id q[0];\n",
      "id q[0];\n",
      "id q[0];\n",
      "id q[0];\n",
      "id q[0];\n",
      "id q[0];\n",
      "id q[0];\n",
      "id q[0];\n",
      "id q[0];\n",
      "id q[0];\n",
      "id q[0];\n",
      "id q[0];\n",
      "id q[0];\n",
      "id q[0];\n",
      "id q[0];\n",
      "barrier q[0],q[1];\n",
      "measure q[0] -> c[0];\n",
      "\n"
     ]
    }
   ],
   "source": [
    "# okay, so skip_transpiler is 'deprecated'\n",
    "qobj_2_good = q.compile(circuits_2[1], best, shots=1024, pass_manager=q.tools.compiler.PassManager())\n",
    "\n",
    "print(qobj_2_good.as_dict()['experiments'][0]['header']['compiled_circuit_qasm'])"
   ]
  }
 ],
 "metadata": {
  "kernelspec": {
   "display_name": "quantum",
   "language": "python",
   "name": "quantum"
  },
  "language_info": {
   "codemirror_mode": {
    "name": "ipython",
    "version": 3
   },
   "file_extension": ".py",
   "mimetype": "text/x-python",
   "name": "python",
   "nbconvert_exporter": "python",
   "pygments_lexer": "ipython3",
   "version": "3.7.3"
  }
 },
 "nbformat": 4,
 "nbformat_minor": 2
}

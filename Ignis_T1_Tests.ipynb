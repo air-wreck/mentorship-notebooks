{
 "cells": [
  {
   "cell_type": "markdown",
   "metadata": {},
   "source": [
    "# Ignis T<sub>1</sub> Tests\n",
    "\n",
    "> 5/10/19\n",
    "\n",
    "In this document, I'd like to use the shiny new (I believe just released this March) Qiskit Ignis to re-run the T<sub>1</sub> tests. (As a random side note, there is a typo on the main Ignis page...I wonder if they'd appreciate a pull request to fix it.) Apparently, this module includes a function to generate the very tests IBM uses!"
   ]
  },
  {
   "cell_type": "code",
   "execution_count": 1,
   "metadata": {},
   "outputs": [],
   "source": [
    "# import quantum libraries\n",
    "from collections import Counter  # useful for tallying results\n",
    "import qiskit as q\n",
    "import qiskit.ignis.characterization.coherence as ig\n",
    "import qiskit.tools.monitor as monitor\n",
    "import numpy as np\n",
    "import matplotlib.pyplot as plt\n",
    "%matplotlib inline\n",
    "\n",
    "q.IBMQ.load_accounts()"
   ]
  },
  {
   "cell_type": "code",
   "execution_count": 2,
   "metadata": {},
   "outputs": [],
   "source": [
    "# snippet: wrapper to execute some circuit(s)\n",
    "# this snippet depends on the quantum imports snippet\n",
    "# parameters:\n",
    "#   circuit: a single qiskit.QuantumCircuit or a list of them\n",
    "#   shots, max_credits: self-explanatory\n",
    "#   qubits: number of qubits needed (only necessary for auto-backend)\n",
    "#   backend: either None (auto-choose leasy busy) or qiskit.IBMQBackend\n",
    "#   opt: make circuit optimizations\n",
    "# returns:\n",
    "#   job: the job that ran\n",
    "#   backend: the backend used\n",
    "#   circuit: the circuit(s) used (for reproducibility)\n",
    "def run(circuit, shots=1024, max_credits=10, qubits=5, backend=None, opt=True):\n",
    "\n",
    "    if backend is None:\n",
    "        # get least busy backend if not specified\n",
    "        available = q.IBMQ.backends(filters=lambda x:\n",
    "                                    x.configuration().n_qubits >= qubits\n",
    "                                    and not\n",
    "                                    x.configuration().simulator)\n",
    "        backend = q.providers.ibmq.least_busy(available)\n",
    "\n",
    "    manager = None\n",
    "    if not opt:\n",
    "        # disable optimization by adding a dummy pass manager\n",
    "        manager = q.tools.compiler.PassManager()\n",
    "\n",
    "    # execute job\n",
    "    job = q.execute(circuit, backend=backend, shots=shots,\n",
    "                    max_credits=max_credits, pass_manager=manager)\n",
    "    monitor.job_monitor(job)\n",
    "\n",
    "    # print job info for later retrieval if necessary\n",
    "    print('Job ID \\'%s\\'' % job.job_id())\n",
    "    print('Ran on backend \\'%s\\'' % backend.name())\n",
    "    print('Completed %s' % job.creation_date())\n",
    "\n",
    "    return job, backend, circuit"
   ]
  },
  {
   "cell_type": "code",
   "execution_count": 3,
   "metadata": {},
   "outputs": [],
   "source": [
    "# snippet: retrieve an old qiskit job from job id and backend name\n",
    "def get_job(job_id, backend_name):\n",
    "    backend = q.IBMQ.get_backend(backend_name)\n",
    "    return backend.retrieve_job(job_id)"
   ]
  },
  {
   "cell_type": "markdown",
   "metadata": {},
   "source": [
    "Now let's construct some nice circuits. Since I'm new to this module, I'll mostly be following the documentation."
   ]
  },
  {
   "cell_type": "code",
   "execution_count": 12,
   "metadata": {},
   "outputs": [
    {
     "name": "stdout",
     "output_type": "stream",
     "text": [
      "[  0.   9.  18.  27.  36.  45.  54.  63.  72.  81.  90.  99. 108. 117.\n",
      " 126. 135. 144. 153. 162. 171. 180. 189. 198. 207. 216.]\n"
     ]
    },
    {
     "data": {
      "image/png": "[encoded data removed]",
      "text/plain": [
       "<Figure size 361.2x138.46 with 1 Axes>"
      ]
     },
     "execution_count": 12,
     "metadata": {},
     "output_type": "execute_result"
    }
   ],
   "source": [
    "# gate time data from https://quantumexperience.ng.bluemix.net/qx/community/question?questionId=5ae975670f020500399ed29e&answerId=5ae975730f020500399ee154\n",
    "# also see https://github.com/Qiskit/ibmq-device-information/blob/master/backends/tenerife/V1/version_log.md\n",
    "qubits = [0]\n",
    "circuits, delays = ig.circuits.t1_circuits(num_of_gates=np.arange(0, 2250, 90), gate_time=0.08333, qubits=qubits)\n",
    "print(delays)\n",
    "circuits[0].draw(output='mpl')"
   ]
  },
  {
   "cell_type": "code",
   "execution_count": 13,
   "metadata": {},
   "outputs": [
    {
     "data": {
      "application/vnd.jupyter.widget-view+json": {
       "model_id": "2eec92115b1846dcbba5afaa4393982f",
       "version_major": 2,
       "version_minor": 0
      },
      "text/plain": [
       "HTML(value=\"<p style='font-size:16px;'>Job Status: job is being initialized </p>\")"
      ]
     },
     "metadata": {},
     "output_type": "display_data"
    },
    {
     "name": "stdout",
     "output_type": "stream",
     "text": [
      "Job ID '5cd5d26356c7a3006f9cc038'\n",
      "Ran on backend 'ibmqx4'\n",
      "Completed 2019-05-10T19:34:58.090Z\n"
     ]
    }
   ],
   "source": [
    "job, backend, _ = run(circuits, qubits=len(qubits))"
   ]
  },
  {
   "cell_type": "code",
   "execution_count": 49,
   "metadata": {},
   "outputs": [
    {
     "data": {
      "image/png": "[encoded data removed]",
      "text/plain": [
       "<Figure size 432x288 with 1 Axes>"
      ]
     },
     "metadata": {
      "needs_background": "light"
     },
     "output_type": "display_data"
    }
   ],
   "source": [
    "# get job like this for easier reproducibility later\n",
    "job = get_job('5cd5d26356c7a3006f9cc038', 'ibmqx4')\n",
    "delays = np.arange(0, 2250, 90) * 0.08333\n",
    "fit = ig.fitters.T1Fitter(job.result(), delays, qubits, fit_p0=[1, 10, 0], fit_bounds=([0, 0, -1], [2, 80, 1]))\n",
    "for i in qubits:\n",
    "    fit.fit_data(i)\n",
    "    fit.plot(i)"
   ]
  },
  {
   "cell_type": "markdown",
   "metadata": {},
   "source": [
    "Hey, that's pretty good! For two-year-old gate time data, 48.2 μs is remarkably close to the 46.8 μs posted as the latest official calibration value on the IBM Q Experience website. (Though it's a little further from the 42.7 μs returned by `q.IBMQ.get_backend('ibmqx4').properties().qubits[0]`.) I'm not sure how I can get more updated values for the gate timings.\n",
    "\n",
    "There seems to be a document on [Github](https://github.com/Qiskit/ibmq-device-information/blob/master/backends/tenerife/V1/version_log.md) that lists some \"GD\" gate times from 4/19, but there's no indication of how they measured them or what \"GD\" means (and I'm not sure what the delay between pulses is). If I use ~70 ns, as the document suggests, I get a T<sub>1</sub> of around 40 μs, which is extremely close to 42.7 μs."
   ]
  }
 ],
 "metadata": {
  "kernelspec": {
   "display_name": "quantum",
   "language": "python",
   "name": "quantum"
  },
  "language_info": {
   "codemirror_mode": {
    "name": "ipython",
    "version": 3
   },
   "file_extension": ".py",
   "mimetype": "text/x-python",
   "name": "python",
   "nbconvert_exporter": "python",
   "pygments_lexer": "ipython3",
   "version": "3.7.3"
  }
 },
 "nbformat": 4,
 "nbformat_minor": 2
}

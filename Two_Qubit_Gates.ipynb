{
 "cells": [
  {
   "cell_type": "markdown",
   "metadata": {},
   "source": [
    "# Two-Qubit Gates\n",
    "\n",
    "> 5/31/19\n",
    "\n",
    "This document explores the noise/error characteristics for two-qubit gates on the IBM quantum devices. I'll just start off by importing some snippets I usually like to have:"
   ]
  },
  {
   "cell_type": "code",
   "execution_count": 2,
   "metadata": {},
   "outputs": [],
   "source": [
    "# import quantum libraries\n",
    "from collections import Counter  # useful for tallying results\n",
    "import qiskit as q\n",
    "import qiskit.ignis.verification.randomized_benchmarking as rb\n",
    "import qiskit.tools.monitor as monitor\n",
    "import numpy as np\n",
    "import matplotlib.pyplot as plt\n",
    "%matplotlib inline\n",
    "\n",
    "q.IBMQ.load_accounts()"
   ]
  },
  {
   "cell_type": "code",
   "execution_count": 3,
   "metadata": {},
   "outputs": [],
   "source": [
    "# snippet: wrapper to execute some circuit(s)\n",
    "# this snippet depends on the quantum imports snippet\n",
    "# parameters:\n",
    "#   circuit: a single qiskit.QuantumCircuit or a list of them\n",
    "#   shots, max_credits: self-explanatory\n",
    "#   qubits: number of qubits needed (only necessary for auto-backend)\n",
    "#   backend: either None (auto-choose leasy busy) or qiskit.IBMQBackend\n",
    "#   opt: make circuit optimizations\n",
    "#   **kwargs: additional keyword args to pass to qiskit.execute\n",
    "# returns:\n",
    "#   job: the job that ran\n",
    "#   backend: the backend used\n",
    "#   circuit: the circuit(s) used (for reproducibility)\n",
    "def run(circuit, shots=1024, max_credits=10, qubits=5,\n",
    "        backend=None, opt=True, **kwargs):\n",
    "\n",
    "    if backend is None:\n",
    "        # get least busy backend if not specified\n",
    "        available = q.IBMQ.backends(filters=lambda x:\n",
    "                                    x.configuration().n_qubits >= qubits\n",
    "                                    and not\n",
    "                                    x.configuration().simulator)\n",
    "        backend = q.providers.ibmq.least_busy(available)\n",
    "\n",
    "    manager = None\n",
    "    if not opt:\n",
    "        # disable optimization by adding a dummy pass manager\n",
    "        manager = q.tools.compiler.PassManager()\n",
    "\n",
    "    # execute job\n",
    "    job = q.execute(circuit, backend=backend, shots=shots,\n",
    "                    max_credits=max_credits, pass_manager=manager,\n",
    "                    **kwargs)\n",
    "    monitor.job_monitor(job)\n",
    "\n",
    "    # print job info for later retrieval if necessary\n",
    "    print('Job ID \\'%s\\'' % job.job_id())\n",
    "    print('Ran on backend \\'%s\\'' % backend.name())\n",
    "    print('Completed %s' % job.creation_date())\n",
    "\n",
    "    return job, backend, circuit"
   ]
  },
  {
   "cell_type": "code",
   "execution_count": 4,
   "metadata": {},
   "outputs": [],
   "source": [
    "# snippet: retrieve an old qiskit job from job id and backend name\n",
    "def get_job(job_id, backend_name):\n",
    "    backend = q.IBMQ.get_backend(backend_name)\n",
    "    return backend.retrieve_job(job_id)"
   ]
  },
  {
   "cell_type": "markdown",
   "metadata": {},
   "source": [
    "Next, we identify the currently least-busy IBM backend on which we can run our tests. This doesn't really matter that much (and the least-busy backend right now probably won't be in the future), but we'd like to perform all of our tests on the same device if possible."
   ]
  },
  {
   "cell_type": "code",
   "execution_count": 29,
   "metadata": {},
   "outputs": [
    {
     "name": "stdout",
     "output_type": "stream",
     "text": [
      "The best backend is ibmqx4\n"
     ]
    }
   ],
   "source": [
    "available = q.IBMQ.backends(filters=lambda x:\n",
    "                            x.configuration().n_qubits >= 5\n",
    "                            and not\n",
    "                            x.configuration().simulator)\n",
    "backend = q.providers.ibmq.least_busy(available)\n",
    "\n",
    "print('The best backend is %s' % backend.name())"
   ]
  },
  {
   "cell_type": "markdown",
   "metadata": {},
   "source": [
    "We'll use the Qiskit Ignis verification framework to run some randomized benchmarking tests. The decay constant for these tests should give us some measure of the two-qubit gate noise, although the exact physical meaning of this constant is unclear (see [Proctor et al.](https://arxiv.org/pdf/1702.01853.pdf))."
   ]
  },
  {
   "cell_type": "code",
   "execution_count": 58,
   "metadata": {},
   "outputs": [],
   "source": [
    "# Ignis randomized benchmarking parameters\n",
    "nseeds = 5\n",
    "length_vector = np.arange(1, 100, 5)\n",
    "rb_pattern = [[0, 2]]  # two-qubit benchmarking between Q0 and Q2"
   ]
  },
  {
   "cell_type": "code",
   "execution_count": 59,
   "metadata": {},
   "outputs": [
    {
     "data": {
      "application/vnd.jupyter.widget-view+json": {
       "model_id": "4d65906319ac4684a4525df3445e04a0",
       "version_major": 2,
       "version_minor": 0
      },
      "text/plain": [
       "HTML(value=\"<p style='font-size:16px;'>Job Status: job is being initialized </p>\")"
      ]
     },
     "metadata": {},
     "output_type": "display_data"
    },
    {
     "name": "stdout",
     "output_type": "stream",
     "text": [
      "Job ID '5cf180e901c24500754b9763'\n",
      "Ran on backend 'ibmqx4'\n",
      "Completed 2019-05-31T19:30:49.153Z\n"
     ]
    },
    {
     "data": {
      "application/vnd.jupyter.widget-view+json": {
       "model_id": "bcbc6c6c8d2548269c7e20114e29fafb",
       "version_major": 2,
       "version_minor": 0
      },
      "text/plain": [
       "HTML(value=\"<p style='font-size:16px;'>Job Status: job is being initialized </p>\")"
      ]
     },
     "metadata": {},
     "output_type": "display_data"
    },
    {
     "name": "stdout",
     "output_type": "stream",
     "text": [
      "Job ID '5cf1817a8a1a3d0071e7b490'\n",
      "Ran on backend 'ibmqx4'\n",
      "Completed 2019-05-31T19:33:14.299Z\n"
     ]
    },
    {
     "data": {
      "application/vnd.jupyter.widget-view+json": {
       "model_id": "b75688ad3217488faeb0ff6e87213c8a",
       "version_major": 2,
       "version_minor": 0
      },
      "text/plain": [
       "HTML(value=\"<p style='font-size:16px;'>Job Status: job is being initialized </p>\")"
      ]
     },
     "metadata": {},
     "output_type": "display_data"
    },
    {
     "name": "stdout",
     "output_type": "stream",
     "text": [
      "Job ID '5cf1820b20eddf006c8e4caf'\n",
      "Ran on backend 'ibmqx4'\n",
      "Completed 2019-05-31T19:35:39.373Z\n"
     ]
    },
    {
     "data": {
      "application/vnd.jupyter.widget-view+json": {
       "model_id": "54f1c15ad0114c8a8eb5ff573489848f",
       "version_major": 2,
       "version_minor": 0
      },
      "text/plain": [
       "HTML(value=\"<p style='font-size:16px;'>Job Status: job is being initialized </p>\")"
      ]
     },
     "metadata": {},
     "output_type": "display_data"
    },
    {
     "name": "stdout",
     "output_type": "stream",
     "text": [
      "Job ID '5cf182988a1a3d0071e7b493'\n",
      "Ran on backend 'ibmqx4'\n",
      "Completed 2019-05-31T19:37:59.865Z\n"
     ]
    },
    {
     "data": {
      "application/vnd.jupyter.widget-view+json": {
       "model_id": "0faa287d1364464e9880647c7203d37a",
       "version_major": 2,
       "version_minor": 0
      },
      "text/plain": [
       "HTML(value=\"<p style='font-size:16px;'>Job Status: job is being initialized </p>\")"
      ]
     },
     "metadata": {},
     "output_type": "display_data"
    },
    {
     "name": "stdout",
     "output_type": "stream",
     "text": [
      "Job ID '5cf18326f5e9cd006d59cc80'\n",
      "Ran on backend 'ibmqx4'\n",
      "Completed 2019-05-31T19:40:22.676Z\n"
     ]
    }
   ],
   "source": [
    "# generate and run the circuits\n",
    "rb_circs, xdata = rb.randomized_benchmarking_seq(nseeds, length_vector, rb_pattern)\n",
    "backend = q.IBMQ.get_backend('ibmqx4')  # keep backend consistent for later runs\n",
    "jobs = []\n",
    "for seed, circ in enumerate(rb_circs):\n",
    "    job, backend, _ = run(circ, backend=backend)\n",
    "    jobs += [job]"
   ]
  },
  {
   "cell_type": "markdown",
   "metadata": {},
   "source": [
    "Next, for each gate length, we'll get the average ground state population as well as the standard error. We will then fit these data to an exponential model and find the decay constant with Scipy."
   ]
  },
  {
   "cell_type": "code",
   "execution_count": 65,
   "metadata": {},
   "outputs": [],
   "source": [
    "# collect all the run data into parallel lists\n",
    "job_ids = ['5cf180e901c24500754b9763',\n",
    "           '5cf1817a8a1a3d0071e7b490',\n",
    "           '5cf1820b20eddf006c8e4caf',\n",
    "           '5cf182988a1a3d0071e7b493',\n",
    "           '5cf18326f5e9cd006d59cc80']\n",
    "data = []\n",
    "for i, jid in enumerate(job_ids):\n",
    "    # find frequency of ground state (00)\n",
    "    data += [[]]\n",
    "    job = get_job(jid, 'ibmqx4')\n",
    "    for j, _ in enumerate(length_vector):\n",
    "        counts = Counter(job.result().get_counts(j))\n",
    "        data[i] += [(counts['000'] + counts['010']) / 1024.]\n",
    "\n",
    "# get avg and stderr for each gate series length\n",
    "avg = list(map(np.average, zip(*data)))\n",
    "stderr = list(map(np.std, zip(*data)))"
   ]
  },
  {
   "cell_type": "code",
   "execution_count": 68,
   "metadata": {},
   "outputs": [
    {
     "data": {
      "text/plain": [
       "Text(0.5, 1.0, 'IBM Tenerife Randomized Benchmarking (Q$_0$ and Q$_2$)')"
      ]
     },
     "execution_count": 68,
     "metadata": {},
     "output_type": "execute_result"
    },
    {
     "data": {
      "image/png": "[encoded data removed]",
      "text/plain": [
       "<Figure size 432x288 with 1 Axes>"
      ]
     },
     "metadata": {
      "needs_background": "light"
     },
     "output_type": "display_data"
    }
   ],
   "source": [
    "from scipy.optimize import curve_fit\n",
    "\n",
    "# pure exponential decay model\n",
    "def exp_decay(x, a, b, c):\n",
    "    return a * np.exp(-x / b) + c\n",
    "\n",
    "# fit curve using scipy\n",
    "# since we do not use length multipliers,\n",
    "#   the x-series is the length vector\n",
    "params = curve_fit(exp_decay, length_vector, avg,\n",
    "                   p0=[0.5, 10, 0.5], sigma=stderr)[0]\n",
    "\n",
    "# plot everything prettily\n",
    "fig, ax = plt.subplots()\n",
    "ax.errorbar(length_vector, avg, stderr,\n",
    "            linestyle='None', marker='.')\n",
    "ax.plot(length_vector, exp_decay(length_vector, *params),\n",
    "        label='$r = %f$' % params[1])\n",
    "ax.legend()\n",
    "ax.set_xlabel('Clifford length (gates)')\n",
    "ax.set_ylabel(r'$\\vert 00 \\rangle$ population')\n",
    "ax.set_title('IBM Tenerife Randomized Benchmarking (Q$_0$ and Q$_2$)')"
   ]
  },
  {
   "cell_type": "markdown",
   "metadata": {},
   "source": [
    "For comparison, here are the results for the same test against Q<sub>0</sub> and Q<sub>1</sub> on the Tenerife:\n",
    "\n",
    "![Q0/Q1 randomized benchmarking](img/rb_0_1.png)\n",
    "\n",
    "In the interest of later reproducibility, the job IDs for that experiment were `['5cf1756a7b248a00732994a0', '5cf177293bad81007b05390d', '5cf178de8a1a3d0071e7b461', '5cf17adde6d6dc0074ed611c', '5cf17d4aa95119007977fb74']`, and the length vector was `np.arange(0, 100, 10)`. Likewise, randomized becnhmarking for Q<sub>1</sub> and Q<sub>2</sub> was done with job IDs `['5cf18e3820eddf006c8e4cd0', '5cf18f016a1bf200771683af', '5cf19094e6d6dc0074ed6175', '5cf19244f5e9cd006d59ccc0', '5cf193e601c24500754b979e']`; the plot is below:\n",
    "\n",
    "![Q1/Q2 randomized benchmarking](img/rb_1_2.png)\n",
    "\n",
    "Now we can run the same experiment for other qubits. Since the procedure for this is basically just the procedure applied above (which I think is reasonably well-documented), I will dispense with most of the narrative accompanying the code."
   ]
  },
  {
   "cell_type": "code",
   "execution_count": 4,
   "metadata": {
    "scrolled": false
   },
   "outputs": [
    {
     "name": "stdout",
     "output_type": "stream",
     "text": [
      "Running experiment for Q2 and Q3\n"
     ]
    },
    {
     "data": {
      "application/vnd.jupyter.widget-view+json": {
       "model_id": "f6de3f5a7fc34fa3aab5bb06a18176aa",
       "version_major": 2,
       "version_minor": 0
      },
      "text/plain": [
       "HTML(value=\"<p style='font-size:16px;'>Job Status: job is being initialized </p>\")"
      ]
     },
     "metadata": {},
     "output_type": "display_data"
    },
    {
     "name": "stderr",
     "output_type": "stream",
     "text": [
      "Got a 502 code response to /api/Jobs/5cf5cc8cbe7c440072f34e96/status: 502 Bad Gateway: Registered endpoint failed to handle the request.\n",
      "\n"
     ]
    },
    {
     "name": "stdout",
     "output_type": "stream",
     "text": [
      "Job ID '5cf5cc8cbe7c440072f34e96'\n",
      "Ran on backend 'ibmqx4'\n",
      "Completed 2019-06-04T01:42:36.052Z\n"
     ]
    },
    {
     "data": {
      "application/vnd.jupyter.widget-view+json": {
       "model_id": "2f31e2ca77524285a5d3557ffbc91914",
       "version_major": 2,
       "version_minor": 0
      },
      "text/plain": [
       "HTML(value=\"<p style='font-size:16px;'>Job Status: job is being initialized </p>\")"
      ]
     },
     "metadata": {},
     "output_type": "display_data"
    },
    {
     "name": "stderr",
     "output_type": "stream",
     "text": [
      "Got a 502 code response to /api/Jobs/5cf61a4ab41265007171e8a3/status: 502 Bad Gateway: Registered endpoint failed to handle the request.\n",
      "\n"
     ]
    },
    {
     "name": "stdout",
     "output_type": "stream",
     "text": [
      "Job ID '5cf61a4ab41265007171e8a3'\n",
      "Ran on backend 'ibmqx4'\n",
      "Completed 2019-06-04T07:14:17.172Z\n"
     ]
    },
    {
     "data": {
      "application/vnd.jupyter.widget-view+json": {
       "model_id": "d3979d24f40d4ce3b626b445159c6111",
       "version_major": 2,
       "version_minor": 0
      },
      "text/plain": [
       "HTML(value=\"<p style='font-size:16px;'>Job Status: job is being initialized </p>\")"
      ]
     },
     "metadata": {},
     "output_type": "display_data"
    },
    {
     "name": "stderr",
     "output_type": "stream",
     "text": [
      "Got a 502 code response to /api/Jobs/5cf662b7e1c3c90073822aa2/status: 502 Bad Gateway: Registered endpoint failed to handle the request.\n",
      "\n",
      "Got a 500 code response to /api/Jobs/5cf662b7e1c3c90073822aa2/status: 500 Error: Failed to establish a backside connection\n"
     ]
    },
    {
     "name": "stdout",
     "output_type": "stream",
     "text": [
      "Job ID '5cf662b7e1c3c90073822aa2'\n",
      "Ran on backend 'ibmqx4'\n",
      "Completed 2019-06-04T12:23:19.048Z\n"
     ]
    },
    {
     "data": {
      "application/vnd.jupyter.widget-view+json": {
       "model_id": "16e89691dc6c4afbbc16641682a8629e",
       "version_major": 2,
       "version_minor": 0
      },
      "text/plain": [
       "HTML(value=\"<p style='font-size:16px;'>Job Status: job is being initialized </p>\")"
      ]
     },
     "metadata": {},
     "output_type": "display_data"
    },
    {
     "name": "stderr",
     "output_type": "stream",
     "text": [
      "Got a 502 code response to /api/Jobs/5cf6e1f9249f7000739d2e0f/status: 502 Bad Gateway: Registered endpoint failed to handle the request.\n",
      "\n",
      "Got a 502 code response to /api/Jobs/5cf6e1f9249f7000739d2e0f/status: 502 Bad Gateway: Registered endpoint failed to handle the request.\n",
      "\n"
     ]
    },
    {
     "name": "stdout",
     "output_type": "stream",
     "text": [
      "Job ID '5cf6e1f9249f7000739d2e0f'\n",
      "Ran on backend 'ibmqx4'\n",
      "Completed 2019-06-04T21:26:16.673Z\n"
     ]
    },
    {
     "data": {
      "application/vnd.jupyter.widget-view+json": {
       "model_id": "19f4d983ca79421aa1c4465881f033fe",
       "version_major": 2,
       "version_minor": 0
      },
      "text/plain": [
       "HTML(value=\"<p style='font-size:16px;'>Job Status: job is being initialized </p>\")"
      ]
     },
     "metadata": {},
     "output_type": "display_data"
    },
    {
     "name": "stderr",
     "output_type": "stream",
     "text": [
      "Got a 502 code response to /api/Jobs/5cf7794d249f7000739d2f9b/status: 502 Bad Gateway: Registered endpoint failed to handle the request.\n",
      "\n",
      "Got a 502 code response to /api/Jobs/5cf7794d249f7000739d2f9b/status: 502 Bad Gateway: Registered endpoint failed to handle the request.\n",
      "\n",
      "Got a 502 code response to /api/Jobs/5cf7794d249f7000739d2f9b/status: 502 Bad Gateway: Registered endpoint failed to handle the request.\n",
      "\n",
      "Got a 502 code response to /api/Jobs/5cf7794d249f7000739d2f9b/status: 502 Bad Gateway: Registered endpoint failed to handle the request.\n",
      "\n",
      "Got a 502 code response to /api/Jobs/5cf7794d249f7000739d2f9b/status: 502 Bad Gateway: Registered endpoint failed to handle the request.\n",
      "\n",
      "Got a 502 code response to /api/Jobs/5cf7794d249f7000739d2f9b/status: 502 Bad Gateway: Registered endpoint failed to handle the request.\n",
      "\n",
      "Got a 502 code response to /api/Jobs/5cf7794d249f7000739d2f9b/status: 502 Bad Gateway: Registered endpoint failed to handle the request.\n",
      "\n",
      "Got a 502 code response to /api/Jobs/5cf7794d249f7000739d2f9b/status: 502 Bad Gateway: Registered endpoint failed to handle the request.\n",
      "\n",
      "Got a 502 code response to /api/Jobs/5cf7794d249f7000739d2f9b/status: 502 Bad Gateway: Registered endpoint failed to handle the request.\n",
      "\n",
      "Got a 502 code response to /api/Jobs/5cf7794d249f7000739d2f9b/status: 502 Bad Gateway: Registered endpoint failed to handle the request.\n",
      "\n",
      "Got a 502 code response to /api/Jobs/5cf7794d249f7000739d2f9b/status: 502 Bad Gateway: Registered endpoint failed to handle the request.\n",
      "\n"
     ]
    },
    {
     "name": "stdout",
     "output_type": "stream",
     "text": [
      "Job ID '5cf7794d249f7000739d2f9b'\n",
      "Ran on backend 'ibmqx4'\n",
      "Completed 2019-06-05T08:11:56.880Z\n"
     ]
    },
    {
     "ename": "NameError",
     "evalue": "name 'curve_fit' is not defined",
     "output_type": "error",
     "traceback": [
      "\u001b[0;31m---------------------------------------------------------------------------\u001b[0m",
      "\u001b[0;31mNameError\u001b[0m                                 Traceback (most recent call last)",
      "\u001b[0;32m<ipython-input-4-b4c8e471e55c>\u001b[0m in \u001b[0;36m<module>\u001b[0;34m\u001b[0m\n\u001b[1;32m     26\u001b[0m     \u001b[0mstderr\u001b[0m \u001b[0;34m=\u001b[0m \u001b[0mlist\u001b[0m\u001b[0;34m(\u001b[0m\u001b[0mmap\u001b[0m\u001b[0;34m(\u001b[0m\u001b[0mnp\u001b[0m\u001b[0;34m.\u001b[0m\u001b[0mstd\u001b[0m\u001b[0;34m,\u001b[0m \u001b[0mzip\u001b[0m\u001b[0;34m(\u001b[0m\u001b[0;34m*\u001b[0m\u001b[0mdata\u001b[0m\u001b[0;34m)\u001b[0m\u001b[0;34m)\u001b[0m\u001b[0;34m)\u001b[0m\u001b[0;34m\u001b[0m\u001b[0;34m\u001b[0m\u001b[0m\n\u001b[1;32m     27\u001b[0m \u001b[0;34m\u001b[0m\u001b[0m\n\u001b[0;32m---> 28\u001b[0;31m     params = curve_fit(exp_decay, length_vector, avg,\n\u001b[0m\u001b[1;32m     29\u001b[0m                        p0=[0.5, 10, 0.5], sigma=stderr)[0]\n\u001b[1;32m     30\u001b[0m     \u001b[0mxs\u001b[0m \u001b[0;34m=\u001b[0m \u001b[0mnp\u001b[0m\u001b[0;34m.\u001b[0m\u001b[0mlinspace\u001b[0m\u001b[0;34m(\u001b[0m\u001b[0;36m0\u001b[0m\u001b[0;34m,\u001b[0m \u001b[0mmax\u001b[0m\u001b[0;34m(\u001b[0m\u001b[0mlength_vector\u001b[0m\u001b[0;34m)\u001b[0m\u001b[0;34m,\u001b[0m \u001b[0;36m100\u001b[0m\u001b[0;34m)\u001b[0m  \u001b[0;31m# continuous domain for plotting\u001b[0m\u001b[0;34m\u001b[0m\u001b[0;34m\u001b[0m\u001b[0m\n",
      "\u001b[0;31mNameError\u001b[0m: name 'curve_fit' is not defined"
     ]
    }
   ],
   "source": [
    "# Ignis randomized benchmarking parameters\n",
    "nseeds = 5\n",
    "length_vector = np.arange(1, 100, 10)\n",
    "backend = q.IBMQ.get_backend('ibmqx4')\n",
    "\n",
    "meta_jobs = []\n",
    "for pattern in [[[2, 3]], [[3, 4]], [[2, 4]]]:  # pairs of qubits to test\n",
    "    print('Running experiment for Q%d and Q%d' % tuple(pattern[0]))\n",
    "    \n",
    "    # use Ignis to generate randomized gate sequences\n",
    "    # run the resulting circuits\n",
    "    rb_circs, xdata = rb.randomized_benchmarking_seq(nseeds, length_vector, pattern)\n",
    "    jobs = []\n",
    "    for seed, circ in enumerate(rb_circs):\n",
    "        job, backend, _ = run(circ, backend=backend)\n",
    "        jobs += [job]\n",
    "    meta_jobs += [jobs]  # collect job object for later retrieval if necessary\n",
    "    \n",
    "    # collect the data directly after each job\n",
    "    data = []\n",
    "    for i, job in enumerate(jobs):\n",
    "        data += [[]]\n",
    "        for j, _ in enumerate(length_vector):\n",
    "            # within the counts, find frequency of '00' state\n",
    "            counts = job.result().get_counts(j).items()\n",
    "            tmp = filter(lambda x: x[0][pattern[0][0]] == '0' and x[0][pattern[0][1]] == '0', counts)\n",
    "            freq = sum(map(lambda x: x[1], tmp)) / 1024.\n",
    "            data[i] += [freq]\n",
    "    \n",
    "    # average and standard error in data\n",
    "    avg = list(map(np.average, zip(*data)))\n",
    "    stderr = list(map(np.std, zip(*data)))\n",
    "\n",
    "    # fit data to an exponential decay curve\n",
    "    params = curve_fit(exp_decay, length_vector, avg,\n",
    "                       p0=[0.5, 10, 0.5], sigma=stderr)[0]\n",
    "    xs = np.linspace(0, max(length_vector), 100)  # continuous domain for plotting\n",
    "\n",
    "    # plot data prettily\n",
    "    fig, ax = plt.subplots()\n",
    "    ax.errorbar(length_vector, avg, stderr,\n",
    "                linestyle='None', marker='.')\n",
    "    ax.plot(xs, exp_decay(xs, *params),\n",
    "            label='$r = %f$' % params[1])\n",
    "    ax.legend()\n",
    "    ax.set_xlabel('Clifford length (gates)')\n",
    "    ax.set_ylabel(r'$\\vert 00 \\rangle$ population')\n",
    "    ax.set_title('IBM Tenerife Randomized Benchmarking (Q$_%d$ and Q$_%d$)' % tuple(pattern[0]))"
   ]
  },
  {
   "cell_type": "markdown",
   "metadata": {},
   "source": [
    "Since that was a bit messy, here's a summary of the results:\n",
    "\n",
    "| Qubit Pair                      |    *r* |\n",
    "| ------------------------------- | ------ |\n",
    "| Q<sub>0</sub> and Q<sub>1</sub> | 23.509 |\n",
    "| Q<sub>0</sub> and Q<sub>2</sub> | 19.771 |\n",
    "| Q<sub>1</sub> and Q<sub>2</sub> |  9.522 |\n",
    "| Q<sub>2</sub> and Q<sub>3</sub> |  8.489 |\n",
    "\n",
    "The value *r* seems to be somewhat correlated with gate error; for conditional not gates, IBM reports that (0, 1) and (0, 2) are less than half of what (1, 2) and (2, 3) are. The exact relationship is, again, uncertain.\n",
    "\n",
    "The remaining code in this notebook can be considered scrap code that will remain uncommented. I should really keep my scrapwork in the designated `Scrapbook.ipynb` notebook."
   ]
  },
  {
   "cell_type": "code",
   "execution_count": 76,
   "metadata": {},
   "outputs": [
    {
     "data": {
      "image/png": "[encoded data removed]",
      "text/plain": [
       "<Figure size 432x288 with 1 Axes>"
      ]
     },
     "metadata": {
      "needs_background": "light"
     },
     "output_type": "display_data"
    }
   ],
   "source": [
    "for _ in [None]:\n",
    "    rb_circs, xdata = rb.randomized_benchmarking_seq(nseeds, length_vector, pattern)    \n",
    "    job_ids = ['5cf18e3820eddf006c8e4cd0',\n",
    "               '5cf18f016a1bf200771683af',\n",
    "               '5cf19094e6d6dc0074ed6175',\n",
    "               '5cf19244f5e9cd006d59ccc0',\n",
    "               '5cf193e601c24500754b979e']\n",
    "    jobs = map(lambda x: get_job(x, 'ibmqx4'), job_ids)\n",
    "    \n",
    "    data = []\n",
    "    for i, job in enumerate(jobs):\n",
    "        data += [[]]\n",
    "        for j, _ in enumerate(length_vector):\n",
    "            counts = job.result().get_counts(j).items()\n",
    "            tmp = filter(lambda x: x[0][1] == '0' and x[0][2] == '0', counts)\n",
    "            freq = sum(map(lambda x: x[1], tmp)) / 1024.\n",
    "            data[i] += [freq]\n",
    "\n",
    "    avg = list(map(np.average, zip(*data)))\n",
    "    stderr = list(map(np.std, zip(*data)))\n",
    "\n",
    "    params = curve_fit(exp_decay, length_vector, avg,\n",
    "                       p0=[0.5, 10, 0.5], sigma=stderr)[0]\n",
    "    xs = np.linspace(0, max(length_vector), 100)  # continuous domain for plotting\n",
    "\n",
    "    fig, ax = plt.subplots()\n",
    "    ax.errorbar(length_vector, avg, stderr,\n",
    "                linestyle='None', marker='.')\n",
    "    ax.plot(xs, exp_decay(xs, *params),\n",
    "            label='$r = %f$' % params[1])\n",
    "    ax.legend()\n",
    "    ax.set_xlabel('Clifford length (gates)')\n",
    "    ax.set_ylabel(r'$\\vert 00 \\rangle$ population')\n",
    "    ax.set_title('IBM Tenerife Randomized Benchmarking (Q$_1$ and Q$_2$)')"
   ]
  },
  {
   "cell_type": "code",
   "execution_count": 9,
   "metadata": {},
   "outputs": [
    {
     "data": {
      "image/png": "[encoded data removed]",
      "text/plain": [
       "<Figure size 432x288 with 1 Axes>"
      ]
     },
     "metadata": {
      "needs_background": "light"
     },
     "output_type": "display_data"
    }
   ],
   "source": [
    "for _ in [None]:\n",
    "    pattern = [[2, 3]]\n",
    "    rb_circs, xdata = rb.randomized_benchmarking_seq(nseeds, length_vector, pattern)    \n",
    "    job_ids = ['5cf5cc8cbe7c440072f34e96',\n",
    "               '5cf61a4ab41265007171e8a3',\n",
    "               '5cf662b7e1c3c90073822aa2',\n",
    "               '5cf6e1f9249f7000739d2e0f',\n",
    "               '5cf7794d249f7000739d2f9b']\n",
    "    jobs = map(lambda x: get_job(x, 'ibmqx4'), job_ids)\n",
    "    \n",
    "    data = []\n",
    "    for i, job in enumerate(jobs):\n",
    "        data += [[]]\n",
    "        for j, _ in enumerate(length_vector):\n",
    "            counts = job.result().get_counts(j).items()\n",
    "            tmp = filter(lambda x: x[0][1] == '0' and x[0][2] == '0', counts)\n",
    "            freq = sum(map(lambda x: x[1], tmp)) / 1024.\n",
    "            data[i] += [freq]\n",
    "\n",
    "    avg = list(map(np.average, zip(*data)))\n",
    "    stderr = list(map(np.std, zip(*data)))\n",
    "\n",
    "    params = curve_fit(exp_decay, length_vector, avg,\n",
    "                       p0=[0.5, 10, 0.5], sigma=stderr)[0]\n",
    "    xs = np.linspace(0, max(length_vector), 100)  # continuous domain for plotting\n",
    "\n",
    "    fig, ax = plt.subplots()\n",
    "    ax.errorbar(length_vector, avg, stderr,\n",
    "                linestyle='None', marker='.')\n",
    "    ax.plot(xs, exp_decay(xs, *params),\n",
    "            label='$r = %f$' % params[1])\n",
    "    ax.legend()\n",
    "    ax.set_xlabel('Clifford length (gates)')\n",
    "    ax.set_ylabel(r'$\\vert 00 \\rangle$ population')\n",
    "    ax.set_title('IBM Tenerife Randomized Benchmarking (Q$_2$ and Q$_3$)')"
   ]
  },
  {
   "cell_type": "code",
   "execution_count": 7,
   "metadata": {},
   "outputs": [],
   "source": [
    "from scipy.optimize import curve_fit\n",
    "\n",
    "# Ignis randomized benchmarking\n",
    "nseeds = 5\n",
    "length_vector = np.arange(1, 100, 10)\n",
    "backend = q.IBMQ.get_backend('ibmqx4')\n",
    "\n",
    "# pure exponential decay model\n",
    "def exp_decay(x, a, b, c):\n",
    "    return a * np.exp(-x / b) + c"
   ]
  }
 ],
 "metadata": {
  "kernelspec": {
   "display_name": "quantum",
   "language": "python",
   "name": "quantum"
  },
  "language_info": {
   "codemirror_mode": {
    "name": "ipython",
    "version": 3
   },
   "file_extension": ".py",
   "mimetype": "text/x-python",
   "name": "python",
   "nbconvert_exporter": "python",
   "pygments_lexer": "ipython3",
   "version": "3.7.3"
  }
 },
 "nbformat": 4,
 "nbformat_minor": 2
}

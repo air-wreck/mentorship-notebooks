{
 "cells": [
  {
   "cell_type": "markdown",
   "metadata": {},
   "source": [
    "# Summary of Results\n",
    "\n",
    "Steven Liu and Eric Zheng\n",
    "\n",
    "7 June 2019\n",
    "\n",
    "This document provides a summary of the noise/error characterization experiments run on the IBM quantum devices during the spring 2019 mentorship program.\n",
    "\n",
    "> *Nota Bene:* This notebook is a copy of the original document for the sake of the completeness of this repository and the accessibility of this document once my High Tech Google account expires."
   ]
  },
  {
   "cell_type": "markdown",
   "metadata": {},
   "source": [
    "## Energy Relaxation (T<sub>1</sub>)\n",
    "\n",
    "The first type of error considered was energy relaxation, in which an excited qubit decays into the ground state over time. The process is modeled as an exponential decay; the time constant of the decay is termed T1 and is an important performance characteristic for quantum computing. A sample circuit for measuring T1 across two qubits is shown below.\n",
    "\n",
    "![T1 expeirment circuit](img/t1_circuit.png)\n",
    "\n",
    "The experimental data for all five qubits is shown below.\n",
    "\n",
    "![T1 experiment data](img/t1_steven.png)"
   ]
  },
  {
   "cell_type": "markdown",
   "metadata": {},
   "source": [
    "## Dephasing (T<sub>2</sub>)\n",
    "\n",
    "The second type of error considered was dephasing, in which a qubit \"orbits\" the equator of the Bloch sphere. This should follow a damped sinusoidal oscillation, whose time constant is termed T<sub>2</sub>. The source code for this experiment can be found in `T2star_Variations.ipynb`.\n",
    "\n",
    "A sample experimental run that illustrates this well on the Yorktown device is plotted below. (Other plots, which aren't as pretty, are available in the source file.) The conversion from gate cycles to real time (in microseconds) was taken from an old [forum post](https://quantumexperience.ng.bluemix.net/qx/community/question?questionId=5ae975670f020500399ed29e&answerId=5ae975730f020500399ee154) by an IBM employee, which is admittedly not the most precise source.\n",
    "\n",
    "![T2 Oscillation Example](img/t2_very_pretty.png)\n",
    "\n",
    "The final values for the Tenerife device and their associated errors are given below. The expected T<sub>2</sub> values come from the most recent calibration values (at the time of the experiment) posted on the IBM website.\n",
    "\n",
    "| Statistic                          | Q<sub>0</sub> | Q<sub>1</sub> | Q<sub>2</sub> | Q<sub>3</sub> | Q<sub>4</sub> |\n",
    "| ---------------------------------- | ------------- | ------------- | ------------- | ------------- | ------------- |\n",
    "| Experimental T<sub>2</sub> (&mu;s) |        10.246 |         9.999 |        38.138 |        33.781 |         5.313 |\n",
    "| Expected T<sub>2</sub> (&mu;s)     |         20.60 |         10.60 |         35.60 |         29.70 |          5.00 |\n",
    "| Percent Error                      |        -50.26 |         -5.67 |         +7.13 |        +13.74 |         +6.26 |"
   ]
  },
  {
   "cell_type": "markdown",
   "metadata": {},
   "source": [
    "## State Initialization/Measurement\n",
    "\n",
    "The third type of error considered was initialization and measurement error, which is simply the error introduced by the fact that a qubit cannot be put into the 1 state perfectly, and even a qubit in a pure 1 state will sometimes be measured in the 0 state due to hardware limitations. These errors can be measured by preparing a qubit and measuring it immediately.\n",
    "\n",
    "The results for preparing a qubit in the 0 state and measuring it immediately on the Tenerife device are shown below. The frequencies are for measuring a 0, and the expected frequencies are taken from the gate readout errors posted on the IBM website. The observed and expected frequencies are compared using a &chi;<sup>2</sup> goodness-of-fit test. (A discussion of the small p-values can be found in `Basic_Error_Rate.ipynb`.)\n",
    "\n",
    "| Statistic         | Q<sub>0</sub> | Q<sub>1</sub> | Q<sub>2</sub> | Q<sub>3</sub> | Q<sub>4</sub> |\n",
    "| ----------------- | -------------------------- | -------------------------- | ------ | ------ | ------ |\n",
    "| Observed Freq.    |                      0.993 |                      0.993 |  0.981 |  0.676 |  0.753 |\n",
    "| Expected Freq.    |                      0.945 |                      0.934 |  0.972 |  0.669 |  0.766 |\n",
    "| Sample Size       |                       1024 |                       1024 |   1024 |   1024 |   1024 |\n",
    "| &chi;<sup>2</sup> |                     45.425 |                     58.147 |  3.357 |  0.229 |  0.901 |\n",
    "| p-value           | 1.6&times;10<sup>-11</sup> | 2.4&times;10<sup>-14</sup> | 0.0669 | 0.6326 | 0.3424 |"
   ]
  },
  {
   "cell_type": "markdown",
   "metadata": {},
   "source": [
    "## Multi-qubit Gate Error\n",
    "\n",
    "The fourth type of error considered was a multi-qubit gate error. This type of error was characterized using the randomized benchmarking suite in the Qiskit Ignis module. Ignis was used to generate randomized gate sequences of varying length that should leave the qubits in the ground state. However, due to gate errors, as the sequences grow longer, the the ground state population decays; the time constant of this decay is termed *r*. Although it is not immediately clear what *r* measures (see [Proctor et al.](https://arxiv.org/pdf/1702.01853.pdf)) and IBM does not provide any official calibration values, comparing our values for *r* across different qubits on the same device is potentially meaningful. An example of an experimental run is shown below.\n",
    "\n",
    "![Randomized benchmarking example](img/rb_0_2.png)\n",
    "\n",
    "Due to time constraints, this experiment was not carried out for all pairs of qubits allowed by the device layout, but the pairs for which data were collected are shown below.\n",
    "\n",
    "| Qubit Pair                      |    *r* |\n",
    "| ------------------------------- | ------ |\n",
    "| Q<sub>0</sub> and Q<sub>1</sub> | 23.509 |\n",
    "| Q<sub>0</sub> and Q<sub>2</sub> | 19.771 |\n",
    "| Q<sub>1</sub> and Q<sub>2</sub> |  9.522 |\n",
    "| Q<sub>2</sub> and Q<sub>3</sub> |  8.489 |"
   ]
  }
 ],
 "metadata": {
  "kernelspec": {
   "display_name": "quantum",
   "language": "python",
   "name": "quantum"
  },
  "language_info": {
   "codemirror_mode": {
    "name": "ipython",
    "version": 3
   },
   "file_extension": ".py",
   "mimetype": "text/x-python",
   "name": "python",
   "nbconvert_exporter": "python",
   "pygments_lexer": "ipython3",
   "version": "3.7.3"
  }
 },
 "nbformat": 4,
 "nbformat_minor": 2
}

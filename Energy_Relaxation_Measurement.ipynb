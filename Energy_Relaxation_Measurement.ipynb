{
 "cells": [
  {
   "cell_type": "markdown",
   "metadata": {},
   "source": [
    "# Energy Relaxation Measurement\n",
    "\n",
    "> 2019-04-12\n",
    "\n",
    "This document implements the energy relaxation measurement shown in the IBM Q Experience User Guide. It also features some original analysis, which is probably wrong."
   ]
  },
  {
   "cell_type": "code",
   "execution_count": 1,
   "metadata": {},
   "outputs": [],
   "source": [
    "# import standard libraries\n",
    "import qiskit as q\n",
    "import qiskit.tools.monitor as monitor\n",
    "import numpy as np\n",
    "import matplotlib.pyplot as plt\n",
    "%matplotlib inline"
   ]
  },
  {
   "cell_type": "markdown",
   "metadata": {},
   "source": [
    "Our circuit will consist of a preparation stage and a measurement stage, with varying numbers of idle (identity) gates placed between them. Theoretically, when the idle time becomes too great, the excited $\\vert 1 \\rangle$ states should decay to $\\vert 0 \\rangle$ states."
   ]
  },
  {
   "cell_type": "code",
   "execution_count": 2,
   "metadata": {},
   "outputs": [],
   "source": [
    "qr = q.QuantumRegister(1, 'q')\n",
    "cr = q.ClassicalRegister(1, 'c')\n",
    "\n",
    "# preparation stage\n",
    "prepare = q.QuantumCircuit(qr, cr)\n",
    "prepare.x(qr[0])\n",
    "prepare.barrier()\n",
    "\n",
    "# measurement stage\n",
    "measure = q.QuantumCircuit(qr, cr)\n",
    "measure.measure(qr, cr)\n",
    "\n",
    "# build idle stages\n",
    "circuits = []\n",
    "for n in range(50):\n",
    "    idle = q.QuantumCircuit(qr, cr)\n",
    "    for _ in range(45 * n):\n",
    "        idle.iden(qr[0])\n",
    "    circuits += [prepare + idle + measure]"
   ]
  },
  {
   "cell_type": "markdown",
   "metadata": {},
   "source": [
    "As an example, this is what the first circuit (zero delay) looks like:"
   ]
  },
  {
   "cell_type": "code",
   "execution_count": 3,
   "metadata": {},
   "outputs": [
    {
     "data": {
      "image/png": "[encoded data removed]",
      "text/plain": [
       "<Figure size 361.2x138.46 with 1 Axes>"
      ]
     },
     "execution_count": 3,
     "metadata": {},
     "output_type": "execute_result"
    }
   ],
   "source": [
    "circuits[0].draw(output='mpl')"
   ]
  },
  {
   "cell_type": "markdown",
   "metadata": {},
   "source": [
    "For each circuit, we are interested in the frequency of measuring the $\\vert 1 \\rangle$ state. We want to plot this frequency $p(1)$ against the idle delay $t$ in the circuit. We will extract the numbers we want from each experimental run with the fucntion:"
   ]
  },
  {
   "cell_type": "code",
   "execution_count": 4,
   "metadata": {},
   "outputs": [],
   "source": [
    "from collections import Counter\n",
    "\n",
    "# analyze a trial and return the results\n",
    "def count_results(result, circuits, shots=1024):\n",
    "    freq = []    # frequency of '1' state\n",
    "    stderr = []  # standard error\n",
    "\n",
    "    for c in circuits:\n",
    "        trial = Counter(result.get_counts(c))\n",
    "        p = trial['1'] / shots\n",
    "        freq += [p]\n",
    "        stderr += [np.sqrt(p * (1 - p) / shots)]\n",
    "    return freq, stderr"
   ]
  },
  {
   "cell_type": "markdown",
   "metadata": {},
   "source": [
    "Using the simulator, we see that in the ideal case, we should measure a $\\vert 1 \\rangle$ each time. (i.e. $p(1)=1$ for all values of $t$)"
   ]
  },
  {
   "cell_type": "code",
   "execution_count": 5,
   "metadata": {},
   "outputs": [
    {
     "data": {
      "text/plain": [
       "Text(0, 0.5, 'p(1)')"
      ]
     },
     "execution_count": 5,
     "metadata": {},
     "output_type": "execute_result"
    },
    {
     "data": {
      "image/png": "[encoded data removed]",
      "text/plain": [
       "<Figure size 432x288 with 1 Axes>"
      ]
     },
     "metadata": {
      "needs_background": "light"
     },
     "output_type": "display_data"
    }
   ],
   "source": [
    "# run on simulator\n",
    "simulator = q.BasicAer.get_backend('qasm_simulator')\n",
    "sim_job = q.execute(circuits, simulator, shots=1024)\n",
    "sim_p, sim_s = count_results(sim_job.result(), circuits)\n",
    "\n",
    "# plot simulation results\n",
    "sim_fig, sim_ax = plt.subplots()\n",
    "sim_ax.errorbar(range(len(circuits)), sim_p, sim_s)\n",
    "sim_ax.set_xlabel('t (45 idle cycles)')\n",
    "sim_ax.set_ylabel('p(1)')"
   ]
  },
  {
   "cell_type": "markdown",
   "metadata": {},
   "source": [
    "Does this hold on the physical device? We can execute this on the IBM backend and find out."
   ]
  },
  {
   "cell_type": "code",
   "execution_count": 6,
   "metadata": {},
   "outputs": [
    {
     "data": {
      "application/vnd.jupyter.widget-view+json": {
       "model_id": "646eb48de8d54ec3a76c7a38da030439",
       "version_major": 2,
       "version_minor": 0
      },
      "text/plain": [
       "HTML(value=\"<p style='font-size:16px;'>Job Status: job has successfully run </p>\")"
      ]
     },
     "metadata": {},
     "output_type": "display_data"
    },
    {
     "data": {
      "text/plain": [
       "Text(0, 0.5, 'p(1)')"
      ]
     },
     "execution_count": 6,
     "metadata": {},
     "output_type": "execute_result"
    },
    {
     "data": {
      "image/png": "[encoded data removed]",
      "text/plain": [
       "<Figure size 432x288 with 1 Axes>"
      ]
     },
     "metadata": {
      "needs_background": "light"
     },
     "output_type": "display_data"
    }
   ],
   "source": [
    "# locate least busy IBM device backend\n",
    "q.IBMQ.load_accounts()\n",
    "backends = q.IBMQ.backends(filters=lambda x:\n",
    "                           not x.configuration().simulator)\n",
    "best = q.providers.ibmq.least_busy(backends)\n",
    "\n",
    "# run the trials on that backend\n",
    "exp_job = q.execute(circuits, backend=best, shots=1024,\n",
    "                    max_credits=10)\n",
    "monitor.job_monitor(exp_job)\n",
    "exp_p, exp_s = count_results(exp_job.result(), circuits)\n",
    "\n",
    "# plot experimental results\n",
    "exp_fig, exp_ax = plt.subplots()\n",
    "exp_ax.errorbar(range(len(circuits)), exp_p, exp_s)\n",
    "exp_ax.set_xlabel('t (45 idle cycles)')\n",
    "exp_ax.set_ylabel('p(1)')"
   ]
  },
  {
   "cell_type": "markdown",
   "metadata": {},
   "source": [
    "It may be useful to recall this experiment at a later date, so we will save some information, such as the backend used and the job ID."
   ]
  },
  {
   "cell_type": "code",
   "execution_count": 7,
   "metadata": {},
   "outputs": [
    {
     "name": "stdout",
     "output_type": "stream",
     "text": [
      "Job ID '5cb0d74b1cc8540052670ef3'\n",
      "Ran on backend 'ibmq_16_melbourne'\n",
      "Comleted 2019-04-12\n"
     ]
    }
   ],
   "source": [
    "from datetime import datetime\n",
    "\n",
    "print('Job ID \\'%s\\'' % exp_job.job_id())\n",
    "print('Ran on backend \\'%s\\'' % best.name())\n",
    "print('Comleted %s' % datetime.today().strftime('%Y-%m-%d'))"
   ]
  },
  {
   "cell_type": "markdown",
   "metadata": {},
   "source": [
    "From the experimental results, we see that, as expected, there is significant decoherence as time increases. When there is zero gate delay, we almost certainly measure a $\\vert 1 \\rangle$ (give or take a little bit of noise). On the other hand, we almost never measure $\\vert 1 \\rangle$ by the time we get to 2205 idle gates.\n",
    "\n",
    "Can we fit an exponential curve to these data? Let's see what `scipy` gives us. I'm not sure what to do about the y-offset since it theoretically shouldn't be there, but our noisy data include it. I think I'll include it for a possibly more accurate model."
   ]
  },
  {
   "cell_type": "code",
   "execution_count": 8,
   "metadata": {},
   "outputs": [
    {
     "name": "stdout",
     "output_type": "stream",
     "text": [
      "0.8986067323853739 0.001496025127530756 0.011783330833915983\n"
     ]
    },
    {
     "data": {
      "image/png": "[encoded data removed]",
      "text/plain": [
       "<Figure size 432x288 with 1 Axes>"
      ]
     },
     "metadata": {
      "needs_background": "light"
     },
     "output_type": "display_data"
    }
   ],
   "source": [
    "from scipy.optimize import curve_fit\n",
    "\n",
    "# scale data to cycles from blocks of 45\n",
    "x = np.array(range(len(circuits))) * 45\n",
    "\n",
    "# fully parameterized exponential decay model\n",
    "def model(t, a, b, c):\n",
    "    return a * np.exp(-b * t) + c\n",
    "\n",
    "# fit curve with scipy\n",
    "a, b, c = curve_fit(model, x, exp_p, p0=[0.5, 0., 0])[0]\n",
    "fig, ax = plt.subplots()\n",
    "ax.plot(x, exp_p, label='data')\n",
    "ax.plot(x, model(x, a, b, c), label='model')\n",
    "ax.set_xlabel('t (cpu cycles)')\n",
    "ax.set_ylabel('p(1)')\n",
    "ax.legend()\n",
    "print(a, b, c)"
   ]
  },
  {
   "cell_type": "markdown",
   "metadata": {},
   "source": [
    "The IBM Q Experience website gives an approximately 5 GHz frequency for the Melbourne device. With our data, this implies a relaxation time constant of approximately τ = 0.134 μs. This is, of course, an order of magnitude lower than the even the smallest calibration value on the IBM website, and two orders of magnitude lower than the typical value. I'm not sure where my calculations are wrong (I suspect that we shouldn't be directly using the 5 GHz frequency value)."
   ]
  }
 ],
 "metadata": {
  "kernelspec": {
   "display_name": "quantum",
   "language": "python",
   "name": "quantum"
  },
  "language_info": {
   "codemirror_mode": {
    "name": "ipython",
    "version": 3
   },
   "file_extension": ".py",
   "mimetype": "text/x-python",
   "name": "python",
   "nbconvert_exporter": "python",
   "pygments_lexer": "ipython3",
   "version": "3.7.3"
  }
 },
 "nbformat": 4,
 "nbformat_minor": 2
}

{
 "cells": [
  {
   "cell_type": "markdown",
   "metadata": {},
   "source": [
    "# Quantum RNG\n",
    "\n",
    "> 2019-04-19\n",
    "\n",
    "This document investigates the possibility of implementing a verifiable random number generator on the IBM quantum processor."
   ]
  },
  {
   "cell_type": "code",
   "execution_count": 1,
   "metadata": {},
   "outputs": [],
   "source": [
    "from collections import Counter\n",
    "import qiskit as Q\n",
    "import numpy as np\n",
    "import matplotlib.pyplot as plt\n",
    "%matplotlib inline"
   ]
  },
  {
   "cell_type": "markdown",
   "metadata": {},
   "source": [
    "Simply generating (theoretically unbiased) random bits on a quantum processor is rather trivial; a simple circuit like the one below will suffice:"
   ]
  },
  {
   "cell_type": "code",
   "execution_count": 2,
   "metadata": {},
   "outputs": [
    {
     "data": {
      "image/png": "[encoded data removed]",
      "text/plain": [
       "<Figure size 301x138.46 with 1 Axes>"
      ]
     },
     "execution_count": 2,
     "metadata": {},
     "output_type": "execute_result"
    }
   ],
   "source": [
    "q = Q.QuantumRegister(1, 'q')\n",
    "c = Q.ClassicalRegister(1, 'c')\n",
    "qc = Q.QuantumCircuit(q, c)\n",
    "qc.h(q[0])\n",
    "qc.measure(q[0], c[0])\n",
    "qc.draw(output='mpl')"
   ]
  },
  {
   "cell_type": "markdown",
   "metadata": {},
   "source": [
    "What is perhaps more interesting is the possibility of verifying the randomness of the generator. Classically, this is a tricky problem; even after many statistical tests are applied to the generator's output, it is impossible to say whether the generator is random. This is because a classical definition of randomness is a statistical property based on the incompleteness of knowledge about a system. However, quantum mechanics is an inherently random theory, and as several papers ([Pironio et al.](https://arxiv.org/pdf/0911.3427.pdf), [Vazirani and Vidick[1]](https://royalsocietypublishing.org/doi/pdf/10.1098/rsta.2011.0336), [Vazirani and Vidick[2]](https://people.eecs.berkeley.edu/~vazirani/pubs/dice0.pdf)) point out, it becomes possible to experimentally verify random properties of untrusted quantum generators through Bell violations.\n",
    "\n",
    "We will use the Bell correlation estimator:\n",
    "\n",
    "$$\\hat{I} = \\frac{1}{n} \\sum _{x,y} (-1)^{xy} [N(a = b) - N(a \\ne b)] / P(xy)$$\n",
    "\n",
    "from the Pironio et al. We first construct a circuit to perform the measurements shown in Vazirani and Vidick\\[1\\]."
   ]
  },
  {
   "cell_type": "code",
   "execution_count": 3,
   "metadata": {},
   "outputs": [],
   "source": [
    "# first stage: prepare a Bell pair\n",
    "q = Q.QuantumRegister(2, 'q')\n",
    "c = Q.ClassicalRegister(2, 'c')\n",
    "prepare = Q.QuantumCircuit(q, c)\n",
    "prepare.h(q[0])\n",
    "prepare.cx(q[0], q[1])\n",
    "\n",
    "# second stage: measure in appropriate bases described by x,y\n",
    "def measure(x, y):\n",
    "    set_bases = Q.QuantumCircuit(q, c)\n",
    "    \n",
    "    if x == 0:\n",
    "        # measure first qubit in 0 basis\n",
    "        set_bases.iden(q[0])\n",
    "    else:\n",
    "        # measure first qubit in pi/4 basis\n",
    "        set_bases.u3(np.pi/2, np.pi, np.pi, q[0])\n",
    "    if y == 0:\n",
    "        # measure second qubit in pi/8 basis\n",
    "        set_bases.u3(np.pi/4, np.pi, np.pi, q[1])\n",
    "    else:\n",
    "        # measure second qubit in -pi/8 basis\n",
    "        set_bases.u3(-np.pi/4, np.pi, np.pi, q[1])\n",
    "    \n",
    "    set_bases.measure(q, c)\n",
    "    return set_bases"
   ]
  },
  {
   "cell_type": "markdown",
   "metadata": {},
   "source": [
    "We can try the simulation by providing an artificial sequence of (x,y) pairs:"
   ]
  },
  {
   "cell_type": "code",
   "execution_count": 4,
   "metadata": {
    "scrolled": true
   },
   "outputs": [
    {
     "name": "stdout",
     "output_type": "stream",
     "text": [
      "2.8984375\n"
     ]
    }
   ],
   "source": [
    "xy = [(x,y) for x in (0,1) for y in (0,1)]\n",
    "N = 1024\n",
    "n = len(xy) * N\n",
    "I = 0\n",
    "\n",
    "# in this simulation, we will just do all equivalent (x,y)\n",
    "# pairs at once for concision\n",
    "for x, y in xy:\n",
    "    circuit = prepare + measure(x, y)\n",
    "    backend = Q.BasicAer.get_backend('qasm_simulator')\n",
    "    job = Q.execute(circuit, backend, shots=N)\n",
    "    result = Counter(job.result().get_counts(circuit))\n",
    "    I += (-1) ** (x * y) * (result['00'] + result['11'] - result['01'] - result['10']) * 4\n",
    "print(I / n)"
   ]
  },
  {
   "cell_type": "markdown",
   "metadata": {},
   "source": [
    "As expected, the result is greater than 2, which suggests that something nonlocal is going on here.\n",
    "\n",
    "We can now write our random number generator! The tricky part about this generator is that we need to provide it with some seed in order for it to start working, but I believe this seed can be much more biased than the output? I'm not quite sure how this works, but the Vazirani and Vidick\\[2\\] has a nice discussion of this."
   ]
  },
  {
   "cell_type": "code",
   "execution_count": 5,
   "metadata": {},
   "outputs": [],
   "source": [
    "# generate 2n random bits\n",
    "# returns:\n",
    "#   output, the random bits as a string of '0's and '1's\n",
    "#   corr, the Bell correlation number\n",
    "#   p, the p-value for corr > 2 with a uniform local model\n",
    "def rng(n):\n",
    "    # we will cheat a bit by seeding the algorithm with numpy\n",
    "    xy = zip(np.random.randint(0, 2, n),\n",
    "             np.random.randint(0, 2, n))\n",
    "    results = {'00': Counter(), '01': Counter(),\n",
    "               '10': Counter(), '11': Counter()}\n",
    "    output = []\n",
    "\n",
    "    # run trials over all (x,y)\n",
    "    for x, y in xy:\n",
    "        circuit = prepare + measure(x, y)\n",
    "        backend = Q.BasicAer.get_backend('qasm_simulator')\n",
    "        job = Q.execute(circuit, backend, shots=1)\n",
    "        trial = Counter(job.result().get_counts(circuit))\n",
    "        results['%d%d' % (x, y)] += trial\n",
    "        output += list(trial.keys())[0]\n",
    "\n",
    "    # statistically verify the randomness of the output\n",
    "    # p-value is computed as shown in A.D3 Pironio et al.\n",
    "    corr = 0\n",
    "    for key, val in results.items():\n",
    "        x, y = map(int, key)\n",
    "        bell = val['00'] + val['11'] - val['01'] - val['10']\n",
    "        freq = sum(val.values()) / n\n",
    "        corr += (-1) ** (x * y) * bell / freq\n",
    "    corr /= n\n",
    "    p = np.exp(-n * (corr - 2) ** 2 / 72)\n",
    "\n",
    "    return ''.join(output), corr, p\n",
    "\n",
    "bits, corr, p = rng(1000)"
   ]
  },
  {
   "cell_type": "code",
   "execution_count": 6,
   "metadata": {},
   "outputs": [
    {
     "data": {
      "text/plain": [
       "'11011111111101111111010110100000101010100000001011111111111111110101010100100000000000101000001000000000000000001111111111111111010111110010000000100010100000000000000000000000111111010010000010001010111111110000000000000010000000000010001000000010111101010111011100000000010101010000000000000000100000100000000010101010101000100000000011111111110111110010000011110111111111111000001010101010111111110101010100000010011111111111011111010101000000001101111100000000110111010000000011111101111101111111111111111101100000100000000011111111011111110101010111110111000010000111111100000000011111111010101001110111000000000010001000000000110111110111110100001010010111110010101010101010101010101010101011111111001000000000100000000010010101010101010100001000000010001101111111111101101010101111011100001000000000001111010101010101010111010000101011111111110111010010000011110111101010000010000000000000100000000000000000000000000000001101111111011111101010101000100011111101000000001111111111111111111111110000000000000010000000001111111111111111000000000000100001111111111111010000000010101010110101110111111110000000111111111010101000100000011101110111110110101010111101111111111111111101111111111000000001010101010111011000000011111111000010101111111101010101010101011111111110000010111111111010101011110111000000001101111100001000000000000010000000000000000000001111111100000000100000001000101010001010011111110000100010100000111111111000000010000000111111110101010100100000001000000000000001111111111101110101010111111101111111110000000011111111111111010010000000000000110101110000001000100000010111110000000000000000010101011010101010101010111111110000100011011111111111110000000011111111001000000010000011111111001000101111111100100000100000000101010110000000101010100111110100000000110111010101010101010101000010100000000011110111100000001111011100000000001010001111011100000010111111010000000000000000111111110010001000000000001000001111111110101010111101010000000010101010111101010111111101010101'"
      ]
     },
     "execution_count": 6,
     "metadata": {},
     "output_type": "execute_result"
    }
   ],
   "source": [
    "bits"
   ]
  },
  {
   "cell_type": "markdown",
   "metadata": {},
   "source": [
    "Granted, I don't think this is the sort of thing one might wish to use quantum cloud computation for (after all, the sender could just fake the results of the Bell test), but it seems like an cool exercise.\n",
    "\n",
    "Interestingly, when I run the statistical test suite from [here](http://www.fourmilab.ch/random/), it seems to fail the chi-square test with a p-value < 0.01 (closer to 0.5 is better). It is likely that I have an implementation error somewhere, although I'm not sure where. (Or I just converted the numbers to bits incorrectly.)"
   ]
  }
 ],
 "metadata": {
  "kernelspec": {
   "display_name": "quantum",
   "language": "python",
   "name": "quantum"
  },
  "language_info": {
   "codemirror_mode": {
    "name": "ipython",
    "version": 3
   },
   "file_extension": ".py",
   "mimetype": "text/x-python",
   "name": "python",
   "nbconvert_exporter": "python",
   "pygments_lexer": "ipython3",
   "version": "3.7.3"
  }
 },
 "nbformat": 4,
 "nbformat_minor": 2
}

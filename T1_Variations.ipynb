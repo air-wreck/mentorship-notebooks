{
 "cells": [
  {
   "cell_type": "markdown",
   "metadata": {},
   "source": [
    "# T<sub>1</sub> Variations between Qubits\n",
    "\n",
    "> 4/26/19\n",
    "\n",
    "In this document, I'd like to measure T<sub>1</sub> for several different qubits and compare the results. This builds on the earlier notebook `Energy_Relaxation_Measurement.ipynb`, which in turn implements a measurement given in the IBM user guide. While my values for T<sub>1</sub> seem to be off by several orders of magnitude for a single qubit, I suspect that this is simply due to a rather messy conversion from CPU cycles to seconds. However, the relative difference between the T<sub>1</sub> measurements for any two qubits should be preserved, so I can still check my results against the IBM calibration values that way."
   ]
  },
  {
   "cell_type": "code",
   "execution_count": 18,
   "metadata": {},
   "outputs": [],
   "source": [
    "# import standard libraries\n",
    "from collections import Counter  # useful for tallying results\n",
    "import qiskit as q\n",
    "import qiskit.tools.monitor as monitor\n",
    "import numpy as np\n",
    "import matplotlib.pyplot as plt\n",
    "%matplotlib inline\n",
    "\n",
    "q.IBMQ.load_accounts()"
   ]
  },
  {
   "cell_type": "markdown",
   "metadata": {},
   "source": [
    "Since this circuit is so similar to that in the previously mentioned notebook, I won't bother documenting it very thoroughly here unless I get particularly good results that I'd like to showcase. That decision will probably come back to bite me at a later date."
   ]
  },
  {
   "cell_type": "code",
   "execution_count": 63,
   "metadata": {},
   "outputs": [],
   "source": [
    "qr = q.QuantumRegister(2, 'q')\n",
    "cr = q.ClassicalRegister(2, 'c')\n",
    "\n",
    "# preparation stage\n",
    "prepare = q.QuantumCircuit(qr, cr)\n",
    "prepare.x(qr)\n",
    "prepare.barrier()\n",
    "\n",
    "# measurement stage\n",
    "measure = q.QuantumCircuit(qr, cr)\n",
    "measure.barrier()\n",
    "measure.measure(qr, cr)\n",
    "\n",
    "# build idle stages\n",
    "circuits = []\n",
    "for n in range(50):\n",
    "    idle = q.QuantumCircuit(qr, cr)\n",
    "    for _ in range(45 * n):\n",
    "        idle.iden(qr)\n",
    "    circuits += [prepare + idle + measure]"
   ]
  },
  {
   "cell_type": "markdown",
   "metadata": {},
   "source": [
    "And again, here is what an example circuit looks like, just for reference (where `id` represents $45n$ identity gates, $0 \\le n \\lt 50$):"
   ]
  },
  {
   "cell_type": "code",
   "execution_count": 70,
   "metadata": {},
   "outputs": [
    {
     "data": {
      "image/png": "[encoded data removed]",
      "text/plain": [
       "<Figure size 541.8x258.86 with 1 Axes>"
      ]
     },
     "execution_count": 70,
     "metadata": {},
     "output_type": "execute_result"
    }
   ],
   "source": [
    "idle = q.QuantumCircuit(qr, cr)\n",
    "idle.iden(qr)\n",
    "(prepare + idle + measure).draw(output='mpl')"
   ]
  },
  {
   "cell_type": "markdown",
   "metadata": {},
   "source": [
    "This time, we will extract the data for both qubits from each trial."
   ]
  },
  {
   "cell_type": "code",
   "execution_count": 12,
   "metadata": {},
   "outputs": [],
   "source": [
    "# analyze a trial and return the results as a tuple\n",
    "def count_results(result, circuits, shots=1024):\n",
    "    freq1 = []    # frequency of '1' state for each qubit\n",
    "    freq2 = []\n",
    "    stderr1 = []  # standard error for each qubit\n",
    "    stderr2 = []\n",
    "    \n",
    "    for c in circuits:\n",
    "        trial = Counter(result.get_counts(c))\n",
    "        p1 = (trial['01'] + trial['11']) / shots\n",
    "        p2 = (trial['10'] + trial['11']) / shots\n",
    "        freq1 += [p1]\n",
    "        freq2 += [p2]\n",
    "        stderr1 += [np.sqrt(p1 * (1 - p1) / shots)]\n",
    "        stderr2 += [np.sqrt(p2 * (1 - p2) / shots)]\n",
    "    return freq1, freq2, stderr1, stderr2"
   ]
  },
  {
   "cell_type": "markdown",
   "metadata": {},
   "source": [
    "Again, let's try it on the simulator:"
   ]
  },
  {
   "cell_type": "code",
   "execution_count": 15,
   "metadata": {},
   "outputs": [
    {
     "data": {
      "text/plain": [
       "Text(0, 0.5, 'p(1)')"
      ]
     },
     "execution_count": 15,
     "metadata": {},
     "output_type": "execute_result"
    },
    {
     "data": {
      "image/png": "[encoded data removed]",
      "text/plain": [
       "<Figure size 432x288 with 1 Axes>"
      ]
     },
     "metadata": {
      "needs_background": "light"
     },
     "output_type": "display_data"
    }
   ],
   "source": [
    "# run on simulator\n",
    "simulator = q.BasicAer.get_backend('qasm_simulator')\n",
    "job = q.execute(circuits, simulator, shots=1024)\n",
    "p1, p2, s1, s2 = count_results(job.result(), circuits)\n",
    "\n",
    "# plot simulation results\n",
    "fig, ax = plt.subplots()\n",
    "ax.errorbar(range(len(circuits)), p1, s1)\n",
    "ax.errorbar(range(len(circuits)), p2, s2)\n",
    "ax.set_xlabel('t (45 idle cycles)')\n",
    "ax.set_ylabel('p(1)')"
   ]
  },
  {
   "cell_type": "markdown",
   "metadata": {},
   "source": [
    "which are the flat lines that we expected. And now for the actual device:"
   ]
  },
  {
   "cell_type": "code",
   "execution_count": 66,
   "metadata": {},
   "outputs": [
    {
     "name": "stderr",
     "output_type": "stream",
     "text": [
      "/home/eric/anaconda3/envs/quantum/lib/python3.7/site-packages/qiskit/providers/ibmq/ibmqprovider.py:251: UserWarning: Credentials are already in use.\n",
      "  warnings.warn('Credentials are already in use.')\n"
     ]
    },
    {
     "data": {
      "application/vnd.jupyter.widget-view+json": {
       "model_id": "ea6c1ac7148d4e2291eb8d4cc75dd675",
       "version_major": 2,
       "version_minor": 0
      },
      "text/plain": [
       "HTML(value=\"<p style='font-size:16px;'>Job Status: job is being initialized </p>\")"
      ]
     },
     "metadata": {},
     "output_type": "display_data"
    },
    {
     "name": "stdout",
     "output_type": "stream",
     "text": [
      "Job ID '5cc345f1070405006f1f911a'\n",
      "Ran on backend 'ibmqx2'\n",
      "Completed 2019-04-26T17:54:57.404Z\n"
     ]
    }
   ],
   "source": [
    "# locate least busy IBM device backend\n",
    "backends = q.IBMQ.backends(filters=lambda x:\n",
    "                           x.configuration().n_qubits >= 2\n",
    "                           and not\n",
    "                           x.configuration().simulator)\n",
    "best = q.providers.ibmq.least_busy(backends)\n",
    "\n",
    "# run the trials on that backend\n",
    "job = q.execute(circuits, backend=best, shots=1024,\n",
    "                max_credits=10)\n",
    "monitor.job_monitor(job)\n",
    "\n",
    "# print job info for later retrieval if necessary\n",
    "print('Job ID \\'%s\\'' % job.job_id())\n",
    "print('Ran on backend \\'%s\\'' % best.name())\n",
    "print('Completed %s' % job.creation_date())"
   ]
  },
  {
   "cell_type": "markdown",
   "metadata": {},
   "source": [
    "Now we can retrieve the job and analyze the results:"
   ]
  },
  {
   "cell_type": "code",
   "execution_count": 74,
   "metadata": {},
   "outputs": [
    {
     "data": {
      "text/plain": [
       "Text(0, 0.5, 'p(1)')"
      ]
     },
     "execution_count": 74,
     "metadata": {},
     "output_type": "execute_result"
    },
    {
     "data": {
      "image/png": "[encoded data removed]",
      "text/plain": [
       "<Figure size 432x288 with 1 Axes>"
      ]
     },
     "metadata": {
      "needs_background": "light"
     },
     "output_type": "display_data"
    }
   ],
   "source": [
    "# retrieve job from job_id so that it's easier to re-run later\n",
    "backend = q.IBMQ.get_backend('ibmqx2')\n",
    "job = backend.retrieve_job('5cc345f1070405006f1f911a')\n",
    "\n",
    "# plot experimental results\n",
    "p1, p2, s1, s2 = count_results(job.result(), circuits)\n",
    "fig, ax = plt.subplots()\n",
    "ax.errorbar(range(len(circuits)), p1, s1)\n",
    "ax.errorbar(range(len(circuits)), p2, s2)\n",
    "ax.set_xlabel('t (45 idle cycles)')\n",
    "ax.set_ylabel('p(1)')"
   ]
  },
  {
   "cell_type": "markdown",
   "metadata": {},
   "source": [
    "Well, this is slightly puzzling: there doesn't seem to be any energy relaxation at all! $p(1)$ for each qubit seems to be staying relatively constant. This is slightly troubling; I haven't documented it fully, but some further investigation reveals that the presence of a second qubit somehow stabilized the state of both qubits. The funny thing is that I don't even have to measure the second qubit; its inclusion in the program is enough to destroy the energy relaxation that we're measuring. Here's an example: using the following circuit, we get a very nice T<sub>1</sub> measurement:"
   ]
  },
  {
   "cell_type": "code",
   "execution_count": 77,
   "metadata": {
    "scrolled": false
   },
   "outputs": [
    {
     "data": {
      "image/png": "[encoded data removed]",
      "text/plain": [
       "<Figure size 481.6x138.46 with 1 Axes>"
      ]
     },
     "execution_count": 77,
     "metadata": {},
     "output_type": "execute_result"
    }
   ],
   "source": [
    "# replace 'id' with '...' for display points\n",
    "style = {'displaytext': {'id': '...', 'u0': 'U_0', 'u1': 'U_1', 'u2': 'U_2', 'u3': 'U_3', 'x': 'X', 'y': 'Y', 'z': 'Z', 'h': 'H', 's': 'S', 'sdg': 'S^dagger', 't': 'T', 'tdg': 'T^dagger', 'rx': 'R_x', 'ry': 'R_y', 'rz': 'R_z', 'reset': '\\left|0rightrangle' }}\n",
    "\n",
    "# draw a simple representation of the first circuit\n",
    "tmp_qr = q.QuantumRegister(1, 'q')\n",
    "tmp_cr = q.ClassicalRegister(1, 'cr')\n",
    "tmp_qc = q.QuantumCircuit(tmp_qr, tmp_cr)\n",
    "tmp_qc.x(tmp_qr[0])\n",
    "tmp_qc.barrier()\n",
    "tmp_qc.iden(tmp_qr[0])\n",
    "tmp_qc.barrier()\n",
    "tmp_qc.measure(tmp_qr[0], tmp_cr[0])\n",
    "tmp_qc.draw(output='mpl', style=style)"
   ]
  },
  {
   "cell_type": "markdown",
   "metadata": {},
   "source": [
    "![good measure](img/t1_good.png)\n",
    "\n",
    "However, simply by adding a second qubit, we get bad results:"
   ]
  },
  {
   "cell_type": "code",
   "execution_count": 82,
   "metadata": {},
   "outputs": [
    {
     "data": {
      "image/png": "[encoded data removed]",
      "text/plain": [
       "<Figure size 481.6x198.66 with 1 Axes>"
      ]
     },
     "execution_count": 82,
     "metadata": {},
     "output_type": "execute_result"
    }
   ],
   "source": [
    "# draw the second circuit\n",
    "tmp_qr = q.QuantumRegister(2, 'q')\n",
    "tmp_cr = q.ClassicalRegister(1, 'cr')\n",
    "tmp_qc = q.QuantumCircuit(tmp_qr, tmp_cr)\n",
    "tmp_qc.x(tmp_qr[0])\n",
    "tmp_qc.barrier()\n",
    "tmp_qc.iden(tmp_qr[0])\n",
    "tmp_qc.barrier()\n",
    "tmp_qc.measure(tmp_qr[0], tmp_cr[0])\n",
    "tmp_qc.draw(output='mpl', style=style)"
   ]
  },
  {
   "cell_type": "markdown",
   "metadata": {},
   "source": [
    "![bad measure](img/t1_bad.png)\n",
    "\n",
    "This means that we cannot measure multiple qubits at once, which is a little bad for experimental conditions. However, it appears that there is a way to specify the physical qubit mappings separately using the `initial_layout` dictionary argument to `qiskit.execute`.\n",
    "\n",
    "Using initial layout `qr 0 -> q 0` on the `ibmqx2` (job ID `5cc35f9cc25c4c007332e2ac`), I get the exponential model: `0.7825689539399087 0.002577397595447443 0.07776446818269347`:\n",
    "\n",
    "![qubit 0 measurement](img/t1_q0.png)\n",
    "\n",
    "On the other hand, using initial layout `qr 0 -> q 1` on `ibmqx2` (job ID `5cc3614bb2f4f00071ae3f71`), I get the model: `0.8301479690560788 0.002653525919427273 0.05802304155692676`:\n",
    "\n",
    "![qubit 1 measurement](img/t1_q1.png)"
   ]
  },
  {
   "cell_type": "markdown",
   "metadata": {},
   "source": [
    "At the time of writing (and running) the latest advertised calibration values for qubits 0 and 1 on the Yorktown machine are 87.5 and 60.0 microseconds. This is a 0.686 relative difference, which is not close to the 0.971 that we got from the experiment. I wonder if we're overfitting the model; i.e. the model should look something like $e^{-bt}$ instead of $ae^{-bt} + c$. Using an adjusted model $e^{-bt + c}$, or equivalently $ae^{-bt}$ (where the $c$ accounts for some delay before the energy relaxation kicks in), I get a ratio of 0.866, which is better but still rather far off. If I have a pure exponential model with no coefficients/constants, I get 0.934.\n",
    "\n",
    "I'm rambling at this point, but I'd like to note for my own future reference that [O'Malley](https://web.physics.ucsb.edu/~martinisgroup/theses/OMalley2016.pdf) does indeed use the \"fully parameterized\" version of the exponential model. He also has what looks like a fairly thorough discussion of noise, although I haven't gone through it."
   ]
  }
 ],
 "metadata": {
  "kernelspec": {
   "display_name": "quantum",
   "language": "python",
   "name": "quantum"
  },
  "language_info": {
   "codemirror_mode": {
    "name": "ipython",
    "version": 3
   },
   "file_extension": ".py",
   "mimetype": "text/x-python",
   "name": "python",
   "nbconvert_exporter": "python",
   "pygments_lexer": "ipython3",
   "version": "3.7.3"
  }
 },
 "nbformat": 4,
 "nbformat_minor": 2
}
